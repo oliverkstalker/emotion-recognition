{
  "metadata": {
    "kernelspec": {
      "display_name": "Python 3",
      "name": "python3"
    },
    "language_info": {
      "name": "python",
      "version": "3.10.14",
      "mimetype": "text/x-python",
      "codemirror_mode": {
        "name": "ipython",
        "version": 3
      },
      "pygments_lexer": "ipython3",
      "nbconvert_exporter": "python",
      "file_extension": ".py"
    },
    "kaggle": {
      "accelerator": "none",
      "dataSources": [
        {
          "sourceId": 639622,
          "sourceType": "datasetVersion",
          "datasetId": 316368
        }
      ],
      "dockerImageVersionId": 30804,
      "isInternetEnabled": false,
      "language": "python",
      "sourceType": "notebook",
      "isGpuEnabled": false
    },
    "colab": {
      "provenance": [],
      "gpuType": "T4"
    },
    "accelerator": "GPU",
    "widgets": {
      "application/vnd.jupyter.widget-state+json": {
        "1af006a8b2a8463cb7cb474fdfea5634": {
          "model_module": "@jupyter-widgets/controls",
          "model_name": "HBoxModel",
          "model_module_version": "1.5.0",
          "state": {
            "_dom_classes": [],
            "_model_module": "@jupyter-widgets/controls",
            "_model_module_version": "1.5.0",
            "_model_name": "HBoxModel",
            "_view_count": null,
            "_view_module": "@jupyter-widgets/controls",
            "_view_module_version": "1.5.0",
            "_view_name": "HBoxView",
            "box_style": "",
            "children": [
              "IPY_MODEL_cd7c2d3d630247f2ae49d6cf3c7f208d",
              "IPY_MODEL_80e38c772ca541d4be5c7b75256c70db",
              "IPY_MODEL_56818bded2374bd287f449b94f0a8e11"
            ],
            "layout": "IPY_MODEL_dfeeb23be39643ca8746b928a7a8ccae"
          }
        },
        "cd7c2d3d630247f2ae49d6cf3c7f208d": {
          "model_module": "@jupyter-widgets/controls",
          "model_name": "HTMLModel",
          "model_module_version": "1.5.0",
          "state": {
            "_dom_classes": [],
            "_model_module": "@jupyter-widgets/controls",
            "_model_module_version": "1.5.0",
            "_model_name": "HTMLModel",
            "_view_count": null,
            "_view_module": "@jupyter-widgets/controls",
            "_view_module_version": "1.5.0",
            "_view_name": "HTMLView",
            "description": "",
            "description_tooltip": null,
            "layout": "IPY_MODEL_b58f0854060241cf98c3887f13760257",
            "placeholder": "​",
            "style": "IPY_MODEL_458c8f2f754f4a4ea91501e07997269a",
            "value": "preprocessor_config.json: 100%"
          }
        },
        "80e38c772ca541d4be5c7b75256c70db": {
          "model_module": "@jupyter-widgets/controls",
          "model_name": "FloatProgressModel",
          "model_module_version": "1.5.0",
          "state": {
            "_dom_classes": [],
            "_model_module": "@jupyter-widgets/controls",
            "_model_module_version": "1.5.0",
            "_model_name": "FloatProgressModel",
            "_view_count": null,
            "_view_module": "@jupyter-widgets/controls",
            "_view_module_version": "1.5.0",
            "_view_name": "ProgressView",
            "bar_style": "success",
            "description": "",
            "description_tooltip": null,
            "layout": "IPY_MODEL_82c9eab69a064e02ad653df36953d48e",
            "max": 159,
            "min": 0,
            "orientation": "horizontal",
            "style": "IPY_MODEL_f1c462ecb0db4fbcb24f433b57f8ba12",
            "value": 159
          }
        },
        "56818bded2374bd287f449b94f0a8e11": {
          "model_module": "@jupyter-widgets/controls",
          "model_name": "HTMLModel",
          "model_module_version": "1.5.0",
          "state": {
            "_dom_classes": [],
            "_model_module": "@jupyter-widgets/controls",
            "_model_module_version": "1.5.0",
            "_model_name": "HTMLModel",
            "_view_count": null,
            "_view_module": "@jupyter-widgets/controls",
            "_view_module_version": "1.5.0",
            "_view_name": "HTMLView",
            "description": "",
            "description_tooltip": null,
            "layout": "IPY_MODEL_a99d47bb341e461097b5ce60f3302d13",
            "placeholder": "​",
            "style": "IPY_MODEL_af4d330d10aa423ab57f6123e283e856",
            "value": " 159/159 [00:00&lt;00:00, 10.6kB/s]"
          }
        },
        "dfeeb23be39643ca8746b928a7a8ccae": {
          "model_module": "@jupyter-widgets/base",
          "model_name": "LayoutModel",
          "model_module_version": "1.2.0",
          "state": {
            "_model_module": "@jupyter-widgets/base",
            "_model_module_version": "1.2.0",
            "_model_name": "LayoutModel",
            "_view_count": null,
            "_view_module": "@jupyter-widgets/base",
            "_view_module_version": "1.2.0",
            "_view_name": "LayoutView",
            "align_content": null,
            "align_items": null,
            "align_self": null,
            "border": null,
            "bottom": null,
            "display": null,
            "flex": null,
            "flex_flow": null,
            "grid_area": null,
            "grid_auto_columns": null,
            "grid_auto_flow": null,
            "grid_auto_rows": null,
            "grid_column": null,
            "grid_gap": null,
            "grid_row": null,
            "grid_template_areas": null,
            "grid_template_columns": null,
            "grid_template_rows": null,
            "height": null,
            "justify_content": null,
            "justify_items": null,
            "left": null,
            "margin": null,
            "max_height": null,
            "max_width": null,
            "min_height": null,
            "min_width": null,
            "object_fit": null,
            "object_position": null,
            "order": null,
            "overflow": null,
            "overflow_x": null,
            "overflow_y": null,
            "padding": null,
            "right": null,
            "top": null,
            "visibility": null,
            "width": null
          }
        },
        "b58f0854060241cf98c3887f13760257": {
          "model_module": "@jupyter-widgets/base",
          "model_name": "LayoutModel",
          "model_module_version": "1.2.0",
          "state": {
            "_model_module": "@jupyter-widgets/base",
            "_model_module_version": "1.2.0",
            "_model_name": "LayoutModel",
            "_view_count": null,
            "_view_module": "@jupyter-widgets/base",
            "_view_module_version": "1.2.0",
            "_view_name": "LayoutView",
            "align_content": null,
            "align_items": null,
            "align_self": null,
            "border": null,
            "bottom": null,
            "display": null,
            "flex": null,
            "flex_flow": null,
            "grid_area": null,
            "grid_auto_columns": null,
            "grid_auto_flow": null,
            "grid_auto_rows": null,
            "grid_column": null,
            "grid_gap": null,
            "grid_row": null,
            "grid_template_areas": null,
            "grid_template_columns": null,
            "grid_template_rows": null,
            "height": null,
            "justify_content": null,
            "justify_items": null,
            "left": null,
            "margin": null,
            "max_height": null,
            "max_width": null,
            "min_height": null,
            "min_width": null,
            "object_fit": null,
            "object_position": null,
            "order": null,
            "overflow": null,
            "overflow_x": null,
            "overflow_y": null,
            "padding": null,
            "right": null,
            "top": null,
            "visibility": null,
            "width": null
          }
        },
        "458c8f2f754f4a4ea91501e07997269a": {
          "model_module": "@jupyter-widgets/controls",
          "model_name": "DescriptionStyleModel",
          "model_module_version": "1.5.0",
          "state": {
            "_model_module": "@jupyter-widgets/controls",
            "_model_module_version": "1.5.0",
            "_model_name": "DescriptionStyleModel",
            "_view_count": null,
            "_view_module": "@jupyter-widgets/base",
            "_view_module_version": "1.2.0",
            "_view_name": "StyleView",
            "description_width": ""
          }
        },
        "82c9eab69a064e02ad653df36953d48e": {
          "model_module": "@jupyter-widgets/base",
          "model_name": "LayoutModel",
          "model_module_version": "1.2.0",
          "state": {
            "_model_module": "@jupyter-widgets/base",
            "_model_module_version": "1.2.0",
            "_model_name": "LayoutModel",
            "_view_count": null,
            "_view_module": "@jupyter-widgets/base",
            "_view_module_version": "1.2.0",
            "_view_name": "LayoutView",
            "align_content": null,
            "align_items": null,
            "align_self": null,
            "border": null,
            "bottom": null,
            "display": null,
            "flex": null,
            "flex_flow": null,
            "grid_area": null,
            "grid_auto_columns": null,
            "grid_auto_flow": null,
            "grid_auto_rows": null,
            "grid_column": null,
            "grid_gap": null,
            "grid_row": null,
            "grid_template_areas": null,
            "grid_template_columns": null,
            "grid_template_rows": null,
            "height": null,
            "justify_content": null,
            "justify_items": null,
            "left": null,
            "margin": null,
            "max_height": null,
            "max_width": null,
            "min_height": null,
            "min_width": null,
            "object_fit": null,
            "object_position": null,
            "order": null,
            "overflow": null,
            "overflow_x": null,
            "overflow_y": null,
            "padding": null,
            "right": null,
            "top": null,
            "visibility": null,
            "width": null
          }
        },
        "f1c462ecb0db4fbcb24f433b57f8ba12": {
          "model_module": "@jupyter-widgets/controls",
          "model_name": "ProgressStyleModel",
          "model_module_version": "1.5.0",
          "state": {
            "_model_module": "@jupyter-widgets/controls",
            "_model_module_version": "1.5.0",
            "_model_name": "ProgressStyleModel",
            "_view_count": null,
            "_view_module": "@jupyter-widgets/base",
            "_view_module_version": "1.2.0",
            "_view_name": "StyleView",
            "bar_color": null,
            "description_width": ""
          }
        },
        "a99d47bb341e461097b5ce60f3302d13": {
          "model_module": "@jupyter-widgets/base",
          "model_name": "LayoutModel",
          "model_module_version": "1.2.0",
          "state": {
            "_model_module": "@jupyter-widgets/base",
            "_model_module_version": "1.2.0",
            "_model_name": "LayoutModel",
            "_view_count": null,
            "_view_module": "@jupyter-widgets/base",
            "_view_module_version": "1.2.0",
            "_view_name": "LayoutView",
            "align_content": null,
            "align_items": null,
            "align_self": null,
            "border": null,
            "bottom": null,
            "display": null,
            "flex": null,
            "flex_flow": null,
            "grid_area": null,
            "grid_auto_columns": null,
            "grid_auto_flow": null,
            "grid_auto_rows": null,
            "grid_column": null,
            "grid_gap": null,
            "grid_row": null,
            "grid_template_areas": null,
            "grid_template_columns": null,
            "grid_template_rows": null,
            "height": null,
            "justify_content": null,
            "justify_items": null,
            "left": null,
            "margin": null,
            "max_height": null,
            "max_width": null,
            "min_height": null,
            "min_width": null,
            "object_fit": null,
            "object_position": null,
            "order": null,
            "overflow": null,
            "overflow_x": null,
            "overflow_y": null,
            "padding": null,
            "right": null,
            "top": null,
            "visibility": null,
            "width": null
          }
        },
        "af4d330d10aa423ab57f6123e283e856": {
          "model_module": "@jupyter-widgets/controls",
          "model_name": "DescriptionStyleModel",
          "model_module_version": "1.5.0",
          "state": {
            "_model_module": "@jupyter-widgets/controls",
            "_model_module_version": "1.5.0",
            "_model_name": "DescriptionStyleModel",
            "_view_count": null,
            "_view_module": "@jupyter-widgets/base",
            "_view_module_version": "1.2.0",
            "_view_name": "StyleView",
            "description_width": ""
          }
        },
        "92efd1f01b3e413c8aa4e6911bf22e15": {
          "model_module": "@jupyter-widgets/controls",
          "model_name": "HBoxModel",
          "model_module_version": "1.5.0",
          "state": {
            "_dom_classes": [],
            "_model_module": "@jupyter-widgets/controls",
            "_model_module_version": "1.5.0",
            "_model_name": "HBoxModel",
            "_view_count": null,
            "_view_module": "@jupyter-widgets/controls",
            "_view_module_version": "1.5.0",
            "_view_name": "HBoxView",
            "box_style": "",
            "children": [
              "IPY_MODEL_2cacde9cc37544999af9dc46ff4c9340",
              "IPY_MODEL_5f30fb1334b1448dbc206b65e7a15cae",
              "IPY_MODEL_98f93061721b4eba81d115b15800b57c"
            ],
            "layout": "IPY_MODEL_31e5ffe1e1274d6598032b2a9591d572"
          }
        },
        "2cacde9cc37544999af9dc46ff4c9340": {
          "model_module": "@jupyter-widgets/controls",
          "model_name": "HTMLModel",
          "model_module_version": "1.5.0",
          "state": {
            "_dom_classes": [],
            "_model_module": "@jupyter-widgets/controls",
            "_model_module_version": "1.5.0",
            "_model_name": "HTMLModel",
            "_view_count": null,
            "_view_module": "@jupyter-widgets/controls",
            "_view_module_version": "1.5.0",
            "_view_name": "HTMLView",
            "description": "",
            "description_tooltip": null,
            "layout": "IPY_MODEL_9012fae7393d4171b065a32e7b44cf3a",
            "placeholder": "​",
            "style": "IPY_MODEL_7c2c5647246640398f7578ff06adeaef",
            "value": "tokenizer_config.json: 100%"
          }
        },
        "5f30fb1334b1448dbc206b65e7a15cae": {
          "model_module": "@jupyter-widgets/controls",
          "model_name": "FloatProgressModel",
          "model_module_version": "1.5.0",
          "state": {
            "_dom_classes": [],
            "_model_module": "@jupyter-widgets/controls",
            "_model_module_version": "1.5.0",
            "_model_name": "FloatProgressModel",
            "_view_count": null,
            "_view_module": "@jupyter-widgets/controls",
            "_view_module_version": "1.5.0",
            "_view_name": "ProgressView",
            "bar_style": "success",
            "description": "",
            "description_tooltip": null,
            "layout": "IPY_MODEL_09016186a32f4e178cb7e1030967a9cc",
            "max": 163,
            "min": 0,
            "orientation": "horizontal",
            "style": "IPY_MODEL_30f2a06e6e244b7d8506f739adca8287",
            "value": 163
          }
        },
        "98f93061721b4eba81d115b15800b57c": {
          "model_module": "@jupyter-widgets/controls",
          "model_name": "HTMLModel",
          "model_module_version": "1.5.0",
          "state": {
            "_dom_classes": [],
            "_model_module": "@jupyter-widgets/controls",
            "_model_module_version": "1.5.0",
            "_model_name": "HTMLModel",
            "_view_count": null,
            "_view_module": "@jupyter-widgets/controls",
            "_view_module_version": "1.5.0",
            "_view_name": "HTMLView",
            "description": "",
            "description_tooltip": null,
            "layout": "IPY_MODEL_de3e715e25294302b0794a8981ad8645",
            "placeholder": "​",
            "style": "IPY_MODEL_25c4f356f3304ba38da753c1b67ca342",
            "value": " 163/163 [00:00&lt;00:00, 12.2kB/s]"
          }
        },
        "31e5ffe1e1274d6598032b2a9591d572": {
          "model_module": "@jupyter-widgets/base",
          "model_name": "LayoutModel",
          "model_module_version": "1.2.0",
          "state": {
            "_model_module": "@jupyter-widgets/base",
            "_model_module_version": "1.2.0",
            "_model_name": "LayoutModel",
            "_view_count": null,
            "_view_module": "@jupyter-widgets/base",
            "_view_module_version": "1.2.0",
            "_view_name": "LayoutView",
            "align_content": null,
            "align_items": null,
            "align_self": null,
            "border": null,
            "bottom": null,
            "display": null,
            "flex": null,
            "flex_flow": null,
            "grid_area": null,
            "grid_auto_columns": null,
            "grid_auto_flow": null,
            "grid_auto_rows": null,
            "grid_column": null,
            "grid_gap": null,
            "grid_row": null,
            "grid_template_areas": null,
            "grid_template_columns": null,
            "grid_template_rows": null,
            "height": null,
            "justify_content": null,
            "justify_items": null,
            "left": null,
            "margin": null,
            "max_height": null,
            "max_width": null,
            "min_height": null,
            "min_width": null,
            "object_fit": null,
            "object_position": null,
            "order": null,
            "overflow": null,
            "overflow_x": null,
            "overflow_y": null,
            "padding": null,
            "right": null,
            "top": null,
            "visibility": null,
            "width": null
          }
        },
        "9012fae7393d4171b065a32e7b44cf3a": {
          "model_module": "@jupyter-widgets/base",
          "model_name": "LayoutModel",
          "model_module_version": "1.2.0",
          "state": {
            "_model_module": "@jupyter-widgets/base",
            "_model_module_version": "1.2.0",
            "_model_name": "LayoutModel",
            "_view_count": null,
            "_view_module": "@jupyter-widgets/base",
            "_view_module_version": "1.2.0",
            "_view_name": "LayoutView",
            "align_content": null,
            "align_items": null,
            "align_self": null,
            "border": null,
            "bottom": null,
            "display": null,
            "flex": null,
            "flex_flow": null,
            "grid_area": null,
            "grid_auto_columns": null,
            "grid_auto_flow": null,
            "grid_auto_rows": null,
            "grid_column": null,
            "grid_gap": null,
            "grid_row": null,
            "grid_template_areas": null,
            "grid_template_columns": null,
            "grid_template_rows": null,
            "height": null,
            "justify_content": null,
            "justify_items": null,
            "left": null,
            "margin": null,
            "max_height": null,
            "max_width": null,
            "min_height": null,
            "min_width": null,
            "object_fit": null,
            "object_position": null,
            "order": null,
            "overflow": null,
            "overflow_x": null,
            "overflow_y": null,
            "padding": null,
            "right": null,
            "top": null,
            "visibility": null,
            "width": null
          }
        },
        "7c2c5647246640398f7578ff06adeaef": {
          "model_module": "@jupyter-widgets/controls",
          "model_name": "DescriptionStyleModel",
          "model_module_version": "1.5.0",
          "state": {
            "_model_module": "@jupyter-widgets/controls",
            "_model_module_version": "1.5.0",
            "_model_name": "DescriptionStyleModel",
            "_view_count": null,
            "_view_module": "@jupyter-widgets/base",
            "_view_module_version": "1.2.0",
            "_view_name": "StyleView",
            "description_width": ""
          }
        },
        "09016186a32f4e178cb7e1030967a9cc": {
          "model_module": "@jupyter-widgets/base",
          "model_name": "LayoutModel",
          "model_module_version": "1.2.0",
          "state": {
            "_model_module": "@jupyter-widgets/base",
            "_model_module_version": "1.2.0",
            "_model_name": "LayoutModel",
            "_view_count": null,
            "_view_module": "@jupyter-widgets/base",
            "_view_module_version": "1.2.0",
            "_view_name": "LayoutView",
            "align_content": null,
            "align_items": null,
            "align_self": null,
            "border": null,
            "bottom": null,
            "display": null,
            "flex": null,
            "flex_flow": null,
            "grid_area": null,
            "grid_auto_columns": null,
            "grid_auto_flow": null,
            "grid_auto_rows": null,
            "grid_column": null,
            "grid_gap": null,
            "grid_row": null,
            "grid_template_areas": null,
            "grid_template_columns": null,
            "grid_template_rows": null,
            "height": null,
            "justify_content": null,
            "justify_items": null,
            "left": null,
            "margin": null,
            "max_height": null,
            "max_width": null,
            "min_height": null,
            "min_width": null,
            "object_fit": null,
            "object_position": null,
            "order": null,
            "overflow": null,
            "overflow_x": null,
            "overflow_y": null,
            "padding": null,
            "right": null,
            "top": null,
            "visibility": null,
            "width": null
          }
        },
        "30f2a06e6e244b7d8506f739adca8287": {
          "model_module": "@jupyter-widgets/controls",
          "model_name": "ProgressStyleModel",
          "model_module_version": "1.5.0",
          "state": {
            "_model_module": "@jupyter-widgets/controls",
            "_model_module_version": "1.5.0",
            "_model_name": "ProgressStyleModel",
            "_view_count": null,
            "_view_module": "@jupyter-widgets/base",
            "_view_module_version": "1.2.0",
            "_view_name": "StyleView",
            "bar_color": null,
            "description_width": ""
          }
        },
        "de3e715e25294302b0794a8981ad8645": {
          "model_module": "@jupyter-widgets/base",
          "model_name": "LayoutModel",
          "model_module_version": "1.2.0",
          "state": {
            "_model_module": "@jupyter-widgets/base",
            "_model_module_version": "1.2.0",
            "_model_name": "LayoutModel",
            "_view_count": null,
            "_view_module": "@jupyter-widgets/base",
            "_view_module_version": "1.2.0",
            "_view_name": "LayoutView",
            "align_content": null,
            "align_items": null,
            "align_self": null,
            "border": null,
            "bottom": null,
            "display": null,
            "flex": null,
            "flex_flow": null,
            "grid_area": null,
            "grid_auto_columns": null,
            "grid_auto_flow": null,
            "grid_auto_rows": null,
            "grid_column": null,
            "grid_gap": null,
            "grid_row": null,
            "grid_template_areas": null,
            "grid_template_columns": null,
            "grid_template_rows": null,
            "height": null,
            "justify_content": null,
            "justify_items": null,
            "left": null,
            "margin": null,
            "max_height": null,
            "max_width": null,
            "min_height": null,
            "min_width": null,
            "object_fit": null,
            "object_position": null,
            "order": null,
            "overflow": null,
            "overflow_x": null,
            "overflow_y": null,
            "padding": null,
            "right": null,
            "top": null,
            "visibility": null,
            "width": null
          }
        },
        "25c4f356f3304ba38da753c1b67ca342": {
          "model_module": "@jupyter-widgets/controls",
          "model_name": "DescriptionStyleModel",
          "model_module_version": "1.5.0",
          "state": {
            "_model_module": "@jupyter-widgets/controls",
            "_model_module_version": "1.5.0",
            "_model_name": "DescriptionStyleModel",
            "_view_count": null,
            "_view_module": "@jupyter-widgets/base",
            "_view_module_version": "1.2.0",
            "_view_name": "StyleView",
            "description_width": ""
          }
        },
        "526badc5704545e9953dfe75f7d8f506": {
          "model_module": "@jupyter-widgets/controls",
          "model_name": "HBoxModel",
          "model_module_version": "1.5.0",
          "state": {
            "_dom_classes": [],
            "_model_module": "@jupyter-widgets/controls",
            "_model_module_version": "1.5.0",
            "_model_name": "HBoxModel",
            "_view_count": null,
            "_view_module": "@jupyter-widgets/controls",
            "_view_module_version": "1.5.0",
            "_view_name": "HBoxView",
            "box_style": "",
            "children": [
              "IPY_MODEL_7121c3b7a3ae43bdaa76cd6914e5c05f",
              "IPY_MODEL_e63d1f4527e54a5ea67699089bfe5fdc",
              "IPY_MODEL_efe17661ee69406199f550875e831e2f"
            ],
            "layout": "IPY_MODEL_dd99659b92ec411eb4e5d97ed1b943db"
          }
        },
        "7121c3b7a3ae43bdaa76cd6914e5c05f": {
          "model_module": "@jupyter-widgets/controls",
          "model_name": "HTMLModel",
          "model_module_version": "1.5.0",
          "state": {
            "_dom_classes": [],
            "_model_module": "@jupyter-widgets/controls",
            "_model_module_version": "1.5.0",
            "_model_name": "HTMLModel",
            "_view_count": null,
            "_view_module": "@jupyter-widgets/controls",
            "_view_module_version": "1.5.0",
            "_view_name": "HTMLView",
            "description": "",
            "description_tooltip": null,
            "layout": "IPY_MODEL_55e9cd572b7b4b9a9cd0d92d228ef17e",
            "placeholder": "​",
            "style": "IPY_MODEL_9f97d7dffdfc461480eaee933c82f30f",
            "value": "config.json: 100%"
          }
        },
        "e63d1f4527e54a5ea67699089bfe5fdc": {
          "model_module": "@jupyter-widgets/controls",
          "model_name": "FloatProgressModel",
          "model_module_version": "1.5.0",
          "state": {
            "_dom_classes": [],
            "_model_module": "@jupyter-widgets/controls",
            "_model_module_version": "1.5.0",
            "_model_name": "FloatProgressModel",
            "_view_count": null,
            "_view_module": "@jupyter-widgets/controls",
            "_view_module_version": "1.5.0",
            "_view_name": "ProgressView",
            "bar_style": "success",
            "description": "",
            "description_tooltip": null,
            "layout": "IPY_MODEL_2addf9dc96a44b2da5a09b19fd740132",
            "max": 1842,
            "min": 0,
            "orientation": "horizontal",
            "style": "IPY_MODEL_8e5052d507034076aec92e08c18821f5",
            "value": 1842
          }
        },
        "efe17661ee69406199f550875e831e2f": {
          "model_module": "@jupyter-widgets/controls",
          "model_name": "HTMLModel",
          "model_module_version": "1.5.0",
          "state": {
            "_dom_classes": [],
            "_model_module": "@jupyter-widgets/controls",
            "_model_module_version": "1.5.0",
            "_model_name": "HTMLModel",
            "_view_count": null,
            "_view_module": "@jupyter-widgets/controls",
            "_view_module_version": "1.5.0",
            "_view_name": "HTMLView",
            "description": "",
            "description_tooltip": null,
            "layout": "IPY_MODEL_fd62f51e16d54a62817a229c2bd7d2c1",
            "placeholder": "​",
            "style": "IPY_MODEL_7edb5d5d5a6744a395b81678ac993ab5",
            "value": " 1.84k/1.84k [00:00&lt;00:00, 137kB/s]"
          }
        },
        "dd99659b92ec411eb4e5d97ed1b943db": {
          "model_module": "@jupyter-widgets/base",
          "model_name": "LayoutModel",
          "model_module_version": "1.2.0",
          "state": {
            "_model_module": "@jupyter-widgets/base",
            "_model_module_version": "1.2.0",
            "_model_name": "LayoutModel",
            "_view_count": null,
            "_view_module": "@jupyter-widgets/base",
            "_view_module_version": "1.2.0",
            "_view_name": "LayoutView",
            "align_content": null,
            "align_items": null,
            "align_self": null,
            "border": null,
            "bottom": null,
            "display": null,
            "flex": null,
            "flex_flow": null,
            "grid_area": null,
            "grid_auto_columns": null,
            "grid_auto_flow": null,
            "grid_auto_rows": null,
            "grid_column": null,
            "grid_gap": null,
            "grid_row": null,
            "grid_template_areas": null,
            "grid_template_columns": null,
            "grid_template_rows": null,
            "height": null,
            "justify_content": null,
            "justify_items": null,
            "left": null,
            "margin": null,
            "max_height": null,
            "max_width": null,
            "min_height": null,
            "min_width": null,
            "object_fit": null,
            "object_position": null,
            "order": null,
            "overflow": null,
            "overflow_x": null,
            "overflow_y": null,
            "padding": null,
            "right": null,
            "top": null,
            "visibility": null,
            "width": null
          }
        },
        "55e9cd572b7b4b9a9cd0d92d228ef17e": {
          "model_module": "@jupyter-widgets/base",
          "model_name": "LayoutModel",
          "model_module_version": "1.2.0",
          "state": {
            "_model_module": "@jupyter-widgets/base",
            "_model_module_version": "1.2.0",
            "_model_name": "LayoutModel",
            "_view_count": null,
            "_view_module": "@jupyter-widgets/base",
            "_view_module_version": "1.2.0",
            "_view_name": "LayoutView",
            "align_content": null,
            "align_items": null,
            "align_self": null,
            "border": null,
            "bottom": null,
            "display": null,
            "flex": null,
            "flex_flow": null,
            "grid_area": null,
            "grid_auto_columns": null,
            "grid_auto_flow": null,
            "grid_auto_rows": null,
            "grid_column": null,
            "grid_gap": null,
            "grid_row": null,
            "grid_template_areas": null,
            "grid_template_columns": null,
            "grid_template_rows": null,
            "height": null,
            "justify_content": null,
            "justify_items": null,
            "left": null,
            "margin": null,
            "max_height": null,
            "max_width": null,
            "min_height": null,
            "min_width": null,
            "object_fit": null,
            "object_position": null,
            "order": null,
            "overflow": null,
            "overflow_x": null,
            "overflow_y": null,
            "padding": null,
            "right": null,
            "top": null,
            "visibility": null,
            "width": null
          }
        },
        "9f97d7dffdfc461480eaee933c82f30f": {
          "model_module": "@jupyter-widgets/controls",
          "model_name": "DescriptionStyleModel",
          "model_module_version": "1.5.0",
          "state": {
            "_model_module": "@jupyter-widgets/controls",
            "_model_module_version": "1.5.0",
            "_model_name": "DescriptionStyleModel",
            "_view_count": null,
            "_view_module": "@jupyter-widgets/base",
            "_view_module_version": "1.2.0",
            "_view_name": "StyleView",
            "description_width": ""
          }
        },
        "2addf9dc96a44b2da5a09b19fd740132": {
          "model_module": "@jupyter-widgets/base",
          "model_name": "LayoutModel",
          "model_module_version": "1.2.0",
          "state": {
            "_model_module": "@jupyter-widgets/base",
            "_model_module_version": "1.2.0",
            "_model_name": "LayoutModel",
            "_view_count": null,
            "_view_module": "@jupyter-widgets/base",
            "_view_module_version": "1.2.0",
            "_view_name": "LayoutView",
            "align_content": null,
            "align_items": null,
            "align_self": null,
            "border": null,
            "bottom": null,
            "display": null,
            "flex": null,
            "flex_flow": null,
            "grid_area": null,
            "grid_auto_columns": null,
            "grid_auto_flow": null,
            "grid_auto_rows": null,
            "grid_column": null,
            "grid_gap": null,
            "grid_row": null,
            "grid_template_areas": null,
            "grid_template_columns": null,
            "grid_template_rows": null,
            "height": null,
            "justify_content": null,
            "justify_items": null,
            "left": null,
            "margin": null,
            "max_height": null,
            "max_width": null,
            "min_height": null,
            "min_width": null,
            "object_fit": null,
            "object_position": null,
            "order": null,
            "overflow": null,
            "overflow_x": null,
            "overflow_y": null,
            "padding": null,
            "right": null,
            "top": null,
            "visibility": null,
            "width": null
          }
        },
        "8e5052d507034076aec92e08c18821f5": {
          "model_module": "@jupyter-widgets/controls",
          "model_name": "ProgressStyleModel",
          "model_module_version": "1.5.0",
          "state": {
            "_model_module": "@jupyter-widgets/controls",
            "_model_module_version": "1.5.0",
            "_model_name": "ProgressStyleModel",
            "_view_count": null,
            "_view_module": "@jupyter-widgets/base",
            "_view_module_version": "1.2.0",
            "_view_name": "StyleView",
            "bar_color": null,
            "description_width": ""
          }
        },
        "fd62f51e16d54a62817a229c2bd7d2c1": {
          "model_module": "@jupyter-widgets/base",
          "model_name": "LayoutModel",
          "model_module_version": "1.2.0",
          "state": {
            "_model_module": "@jupyter-widgets/base",
            "_model_module_version": "1.2.0",
            "_model_name": "LayoutModel",
            "_view_count": null,
            "_view_module": "@jupyter-widgets/base",
            "_view_module_version": "1.2.0",
            "_view_name": "LayoutView",
            "align_content": null,
            "align_items": null,
            "align_self": null,
            "border": null,
            "bottom": null,
            "display": null,
            "flex": null,
            "flex_flow": null,
            "grid_area": null,
            "grid_auto_columns": null,
            "grid_auto_flow": null,
            "grid_auto_rows": null,
            "grid_column": null,
            "grid_gap": null,
            "grid_row": null,
            "grid_template_areas": null,
            "grid_template_columns": null,
            "grid_template_rows": null,
            "height": null,
            "justify_content": null,
            "justify_items": null,
            "left": null,
            "margin": null,
            "max_height": null,
            "max_width": null,
            "min_height": null,
            "min_width": null,
            "object_fit": null,
            "object_position": null,
            "order": null,
            "overflow": null,
            "overflow_x": null,
            "overflow_y": null,
            "padding": null,
            "right": null,
            "top": null,
            "visibility": null,
            "width": null
          }
        },
        "7edb5d5d5a6744a395b81678ac993ab5": {
          "model_module": "@jupyter-widgets/controls",
          "model_name": "DescriptionStyleModel",
          "model_module_version": "1.5.0",
          "state": {
            "_model_module": "@jupyter-widgets/controls",
            "_model_module_version": "1.5.0",
            "_model_name": "DescriptionStyleModel",
            "_view_count": null,
            "_view_module": "@jupyter-widgets/base",
            "_view_module_version": "1.2.0",
            "_view_name": "StyleView",
            "description_width": ""
          }
        },
        "671767fcabd1458c8304c3b4cae6fc82": {
          "model_module": "@jupyter-widgets/controls",
          "model_name": "HBoxModel",
          "model_module_version": "1.5.0",
          "state": {
            "_dom_classes": [],
            "_model_module": "@jupyter-widgets/controls",
            "_model_module_version": "1.5.0",
            "_model_name": "HBoxModel",
            "_view_count": null,
            "_view_module": "@jupyter-widgets/controls",
            "_view_module_version": "1.5.0",
            "_view_name": "HBoxView",
            "box_style": "",
            "children": [
              "IPY_MODEL_04c0f8465bb946f38301d30a9b237d38",
              "IPY_MODEL_b5dc6e209aa54f85a3fe8a7f52f17dc3",
              "IPY_MODEL_c4e918c44087430e8b3dd91a0af78006"
            ],
            "layout": "IPY_MODEL_6aedd96d26cf4332a38eaa6a47c56bb9"
          }
        },
        "04c0f8465bb946f38301d30a9b237d38": {
          "model_module": "@jupyter-widgets/controls",
          "model_name": "HTMLModel",
          "model_module_version": "1.5.0",
          "state": {
            "_dom_classes": [],
            "_model_module": "@jupyter-widgets/controls",
            "_model_module_version": "1.5.0",
            "_model_name": "HTMLModel",
            "_view_count": null,
            "_view_module": "@jupyter-widgets/controls",
            "_view_module_version": "1.5.0",
            "_view_name": "HTMLView",
            "description": "",
            "description_tooltip": null,
            "layout": "IPY_MODEL_68561861d3d74c80b3f3464e087ae9e0",
            "placeholder": "​",
            "style": "IPY_MODEL_7535622005fd416d87a97763da4ac440",
            "value": "vocab.json: 100%"
          }
        },
        "b5dc6e209aa54f85a3fe8a7f52f17dc3": {
          "model_module": "@jupyter-widgets/controls",
          "model_name": "FloatProgressModel",
          "model_module_version": "1.5.0",
          "state": {
            "_dom_classes": [],
            "_model_module": "@jupyter-widgets/controls",
            "_model_module_version": "1.5.0",
            "_model_name": "FloatProgressModel",
            "_view_count": null,
            "_view_module": "@jupyter-widgets/controls",
            "_view_module_version": "1.5.0",
            "_view_name": "ProgressView",
            "bar_style": "success",
            "description": "",
            "description_tooltip": null,
            "layout": "IPY_MODEL_fb873a951d754fdf8213e27369df16f7",
            "max": 291,
            "min": 0,
            "orientation": "horizontal",
            "style": "IPY_MODEL_052ebb65f0e44fdea49264848c753bd9",
            "value": 291
          }
        },
        "c4e918c44087430e8b3dd91a0af78006": {
          "model_module": "@jupyter-widgets/controls",
          "model_name": "HTMLModel",
          "model_module_version": "1.5.0",
          "state": {
            "_dom_classes": [],
            "_model_module": "@jupyter-widgets/controls",
            "_model_module_version": "1.5.0",
            "_model_name": "HTMLModel",
            "_view_count": null,
            "_view_module": "@jupyter-widgets/controls",
            "_view_module_version": "1.5.0",
            "_view_name": "HTMLView",
            "description": "",
            "description_tooltip": null,
            "layout": "IPY_MODEL_647f999151e44e43aecc12d66f352a11",
            "placeholder": "​",
            "style": "IPY_MODEL_603f0949e75946129bb40f0f6948324c",
            "value": " 291/291 [00:00&lt;00:00, 19.8kB/s]"
          }
        },
        "6aedd96d26cf4332a38eaa6a47c56bb9": {
          "model_module": "@jupyter-widgets/base",
          "model_name": "LayoutModel",
          "model_module_version": "1.2.0",
          "state": {
            "_model_module": "@jupyter-widgets/base",
            "_model_module_version": "1.2.0",
            "_model_name": "LayoutModel",
            "_view_count": null,
            "_view_module": "@jupyter-widgets/base",
            "_view_module_version": "1.2.0",
            "_view_name": "LayoutView",
            "align_content": null,
            "align_items": null,
            "align_self": null,
            "border": null,
            "bottom": null,
            "display": null,
            "flex": null,
            "flex_flow": null,
            "grid_area": null,
            "grid_auto_columns": null,
            "grid_auto_flow": null,
            "grid_auto_rows": null,
            "grid_column": null,
            "grid_gap": null,
            "grid_row": null,
            "grid_template_areas": null,
            "grid_template_columns": null,
            "grid_template_rows": null,
            "height": null,
            "justify_content": null,
            "justify_items": null,
            "left": null,
            "margin": null,
            "max_height": null,
            "max_width": null,
            "min_height": null,
            "min_width": null,
            "object_fit": null,
            "object_position": null,
            "order": null,
            "overflow": null,
            "overflow_x": null,
            "overflow_y": null,
            "padding": null,
            "right": null,
            "top": null,
            "visibility": null,
            "width": null
          }
        },
        "68561861d3d74c80b3f3464e087ae9e0": {
          "model_module": "@jupyter-widgets/base",
          "model_name": "LayoutModel",
          "model_module_version": "1.2.0",
          "state": {
            "_model_module": "@jupyter-widgets/base",
            "_model_module_version": "1.2.0",
            "_model_name": "LayoutModel",
            "_view_count": null,
            "_view_module": "@jupyter-widgets/base",
            "_view_module_version": "1.2.0",
            "_view_name": "LayoutView",
            "align_content": null,
            "align_items": null,
            "align_self": null,
            "border": null,
            "bottom": null,
            "display": null,
            "flex": null,
            "flex_flow": null,
            "grid_area": null,
            "grid_auto_columns": null,
            "grid_auto_flow": null,
            "grid_auto_rows": null,
            "grid_column": null,
            "grid_gap": null,
            "grid_row": null,
            "grid_template_areas": null,
            "grid_template_columns": null,
            "grid_template_rows": null,
            "height": null,
            "justify_content": null,
            "justify_items": null,
            "left": null,
            "margin": null,
            "max_height": null,
            "max_width": null,
            "min_height": null,
            "min_width": null,
            "object_fit": null,
            "object_position": null,
            "order": null,
            "overflow": null,
            "overflow_x": null,
            "overflow_y": null,
            "padding": null,
            "right": null,
            "top": null,
            "visibility": null,
            "width": null
          }
        },
        "7535622005fd416d87a97763da4ac440": {
          "model_module": "@jupyter-widgets/controls",
          "model_name": "DescriptionStyleModel",
          "model_module_version": "1.5.0",
          "state": {
            "_model_module": "@jupyter-widgets/controls",
            "_model_module_version": "1.5.0",
            "_model_name": "DescriptionStyleModel",
            "_view_count": null,
            "_view_module": "@jupyter-widgets/base",
            "_view_module_version": "1.2.0",
            "_view_name": "StyleView",
            "description_width": ""
          }
        },
        "fb873a951d754fdf8213e27369df16f7": {
          "model_module": "@jupyter-widgets/base",
          "model_name": "LayoutModel",
          "model_module_version": "1.2.0",
          "state": {
            "_model_module": "@jupyter-widgets/base",
            "_model_module_version": "1.2.0",
            "_model_name": "LayoutModel",
            "_view_count": null,
            "_view_module": "@jupyter-widgets/base",
            "_view_module_version": "1.2.0",
            "_view_name": "LayoutView",
            "align_content": null,
            "align_items": null,
            "align_self": null,
            "border": null,
            "bottom": null,
            "display": null,
            "flex": null,
            "flex_flow": null,
            "grid_area": null,
            "grid_auto_columns": null,
            "grid_auto_flow": null,
            "grid_auto_rows": null,
            "grid_column": null,
            "grid_gap": null,
            "grid_row": null,
            "grid_template_areas": null,
            "grid_template_columns": null,
            "grid_template_rows": null,
            "height": null,
            "justify_content": null,
            "justify_items": null,
            "left": null,
            "margin": null,
            "max_height": null,
            "max_width": null,
            "min_height": null,
            "min_width": null,
            "object_fit": null,
            "object_position": null,
            "order": null,
            "overflow": null,
            "overflow_x": null,
            "overflow_y": null,
            "padding": null,
            "right": null,
            "top": null,
            "visibility": null,
            "width": null
          }
        },
        "052ebb65f0e44fdea49264848c753bd9": {
          "model_module": "@jupyter-widgets/controls",
          "model_name": "ProgressStyleModel",
          "model_module_version": "1.5.0",
          "state": {
            "_model_module": "@jupyter-widgets/controls",
            "_model_module_version": "1.5.0",
            "_model_name": "ProgressStyleModel",
            "_view_count": null,
            "_view_module": "@jupyter-widgets/base",
            "_view_module_version": "1.2.0",
            "_view_name": "StyleView",
            "bar_color": null,
            "description_width": ""
          }
        },
        "647f999151e44e43aecc12d66f352a11": {
          "model_module": "@jupyter-widgets/base",
          "model_name": "LayoutModel",
          "model_module_version": "1.2.0",
          "state": {
            "_model_module": "@jupyter-widgets/base",
            "_model_module_version": "1.2.0",
            "_model_name": "LayoutModel",
            "_view_count": null,
            "_view_module": "@jupyter-widgets/base",
            "_view_module_version": "1.2.0",
            "_view_name": "LayoutView",
            "align_content": null,
            "align_items": null,
            "align_self": null,
            "border": null,
            "bottom": null,
            "display": null,
            "flex": null,
            "flex_flow": null,
            "grid_area": null,
            "grid_auto_columns": null,
            "grid_auto_flow": null,
            "grid_auto_rows": null,
            "grid_column": null,
            "grid_gap": null,
            "grid_row": null,
            "grid_template_areas": null,
            "grid_template_columns": null,
            "grid_template_rows": null,
            "height": null,
            "justify_content": null,
            "justify_items": null,
            "left": null,
            "margin": null,
            "max_height": null,
            "max_width": null,
            "min_height": null,
            "min_width": null,
            "object_fit": null,
            "object_position": null,
            "order": null,
            "overflow": null,
            "overflow_x": null,
            "overflow_y": null,
            "padding": null,
            "right": null,
            "top": null,
            "visibility": null,
            "width": null
          }
        },
        "603f0949e75946129bb40f0f6948324c": {
          "model_module": "@jupyter-widgets/controls",
          "model_name": "DescriptionStyleModel",
          "model_module_version": "1.5.0",
          "state": {
            "_model_module": "@jupyter-widgets/controls",
            "_model_module_version": "1.5.0",
            "_model_name": "DescriptionStyleModel",
            "_view_count": null,
            "_view_module": "@jupyter-widgets/base",
            "_view_module_version": "1.2.0",
            "_view_name": "StyleView",
            "description_width": ""
          }
        },
        "990da5af31cc4a7dbfc48c12a545f8fc": {
          "model_module": "@jupyter-widgets/controls",
          "model_name": "HBoxModel",
          "model_module_version": "1.5.0",
          "state": {
            "_dom_classes": [],
            "_model_module": "@jupyter-widgets/controls",
            "_model_module_version": "1.5.0",
            "_model_name": "HBoxModel",
            "_view_count": null,
            "_view_module": "@jupyter-widgets/controls",
            "_view_module_version": "1.5.0",
            "_view_name": "HBoxView",
            "box_style": "",
            "children": [
              "IPY_MODEL_a550921a4fc74ae8b6deff7cf2e15f58",
              "IPY_MODEL_8496f199b4ed48bb8b0d0acad17a362d",
              "IPY_MODEL_e3cc7a0cad9f455787b4ea053821b10d"
            ],
            "layout": "IPY_MODEL_b298e0e880604e87baad12ad0c1fd147"
          }
        },
        "a550921a4fc74ae8b6deff7cf2e15f58": {
          "model_module": "@jupyter-widgets/controls",
          "model_name": "HTMLModel",
          "model_module_version": "1.5.0",
          "state": {
            "_dom_classes": [],
            "_model_module": "@jupyter-widgets/controls",
            "_model_module_version": "1.5.0",
            "_model_name": "HTMLModel",
            "_view_count": null,
            "_view_module": "@jupyter-widgets/controls",
            "_view_module_version": "1.5.0",
            "_view_name": "HTMLView",
            "description": "",
            "description_tooltip": null,
            "layout": "IPY_MODEL_117d2be7a5d54c1f9a94b56ff99fe78c",
            "placeholder": "​",
            "style": "IPY_MODEL_67136e5cc31f408884fec976b9472a5a",
            "value": "special_tokens_map.json: 100%"
          }
        },
        "8496f199b4ed48bb8b0d0acad17a362d": {
          "model_module": "@jupyter-widgets/controls",
          "model_name": "FloatProgressModel",
          "model_module_version": "1.5.0",
          "state": {
            "_dom_classes": [],
            "_model_module": "@jupyter-widgets/controls",
            "_model_module_version": "1.5.0",
            "_model_name": "FloatProgressModel",
            "_view_count": null,
            "_view_module": "@jupyter-widgets/controls",
            "_view_module_version": "1.5.0",
            "_view_name": "ProgressView",
            "bar_style": "success",
            "description": "",
            "description_tooltip": null,
            "layout": "IPY_MODEL_90982a951ba14c27a04d8622918e3c45",
            "max": 85,
            "min": 0,
            "orientation": "horizontal",
            "style": "IPY_MODEL_3526c602ef964914a659441ee05157f6",
            "value": 85
          }
        },
        "e3cc7a0cad9f455787b4ea053821b10d": {
          "model_module": "@jupyter-widgets/controls",
          "model_name": "HTMLModel",
          "model_module_version": "1.5.0",
          "state": {
            "_dom_classes": [],
            "_model_module": "@jupyter-widgets/controls",
            "_model_module_version": "1.5.0",
            "_model_name": "HTMLModel",
            "_view_count": null,
            "_view_module": "@jupyter-widgets/controls",
            "_view_module_version": "1.5.0",
            "_view_name": "HTMLView",
            "description": "",
            "description_tooltip": null,
            "layout": "IPY_MODEL_9407672ea37c436da36d3d1de575a654",
            "placeholder": "​",
            "style": "IPY_MODEL_69b6d5b1f88248e18f90ae9db9fa9ad0",
            "value": " 85.0/85.0 [00:00&lt;00:00, 7.18kB/s]"
          }
        },
        "b298e0e880604e87baad12ad0c1fd147": {
          "model_module": "@jupyter-widgets/base",
          "model_name": "LayoutModel",
          "model_module_version": "1.2.0",
          "state": {
            "_model_module": "@jupyter-widgets/base",
            "_model_module_version": "1.2.0",
            "_model_name": "LayoutModel",
            "_view_count": null,
            "_view_module": "@jupyter-widgets/base",
            "_view_module_version": "1.2.0",
            "_view_name": "LayoutView",
            "align_content": null,
            "align_items": null,
            "align_self": null,
            "border": null,
            "bottom": null,
            "display": null,
            "flex": null,
            "flex_flow": null,
            "grid_area": null,
            "grid_auto_columns": null,
            "grid_auto_flow": null,
            "grid_auto_rows": null,
            "grid_column": null,
            "grid_gap": null,
            "grid_row": null,
            "grid_template_areas": null,
            "grid_template_columns": null,
            "grid_template_rows": null,
            "height": null,
            "justify_content": null,
            "justify_items": null,
            "left": null,
            "margin": null,
            "max_height": null,
            "max_width": null,
            "min_height": null,
            "min_width": null,
            "object_fit": null,
            "object_position": null,
            "order": null,
            "overflow": null,
            "overflow_x": null,
            "overflow_y": null,
            "padding": null,
            "right": null,
            "top": null,
            "visibility": null,
            "width": null
          }
        },
        "117d2be7a5d54c1f9a94b56ff99fe78c": {
          "model_module": "@jupyter-widgets/base",
          "model_name": "LayoutModel",
          "model_module_version": "1.2.0",
          "state": {
            "_model_module": "@jupyter-widgets/base",
            "_model_module_version": "1.2.0",
            "_model_name": "LayoutModel",
            "_view_count": null,
            "_view_module": "@jupyter-widgets/base",
            "_view_module_version": "1.2.0",
            "_view_name": "LayoutView",
            "align_content": null,
            "align_items": null,
            "align_self": null,
            "border": null,
            "bottom": null,
            "display": null,
            "flex": null,
            "flex_flow": null,
            "grid_area": null,
            "grid_auto_columns": null,
            "grid_auto_flow": null,
            "grid_auto_rows": null,
            "grid_column": null,
            "grid_gap": null,
            "grid_row": null,
            "grid_template_areas": null,
            "grid_template_columns": null,
            "grid_template_rows": null,
            "height": null,
            "justify_content": null,
            "justify_items": null,
            "left": null,
            "margin": null,
            "max_height": null,
            "max_width": null,
            "min_height": null,
            "min_width": null,
            "object_fit": null,
            "object_position": null,
            "order": null,
            "overflow": null,
            "overflow_x": null,
            "overflow_y": null,
            "padding": null,
            "right": null,
            "top": null,
            "visibility": null,
            "width": null
          }
        },
        "67136e5cc31f408884fec976b9472a5a": {
          "model_module": "@jupyter-widgets/controls",
          "model_name": "DescriptionStyleModel",
          "model_module_version": "1.5.0",
          "state": {
            "_model_module": "@jupyter-widgets/controls",
            "_model_module_version": "1.5.0",
            "_model_name": "DescriptionStyleModel",
            "_view_count": null,
            "_view_module": "@jupyter-widgets/base",
            "_view_module_version": "1.2.0",
            "_view_name": "StyleView",
            "description_width": ""
          }
        },
        "90982a951ba14c27a04d8622918e3c45": {
          "model_module": "@jupyter-widgets/base",
          "model_name": "LayoutModel",
          "model_module_version": "1.2.0",
          "state": {
            "_model_module": "@jupyter-widgets/base",
            "_model_module_version": "1.2.0",
            "_model_name": "LayoutModel",
            "_view_count": null,
            "_view_module": "@jupyter-widgets/base",
            "_view_module_version": "1.2.0",
            "_view_name": "LayoutView",
            "align_content": null,
            "align_items": null,
            "align_self": null,
            "border": null,
            "bottom": null,
            "display": null,
            "flex": null,
            "flex_flow": null,
            "grid_area": null,
            "grid_auto_columns": null,
            "grid_auto_flow": null,
            "grid_auto_rows": null,
            "grid_column": null,
            "grid_gap": null,
            "grid_row": null,
            "grid_template_areas": null,
            "grid_template_columns": null,
            "grid_template_rows": null,
            "height": null,
            "justify_content": null,
            "justify_items": null,
            "left": null,
            "margin": null,
            "max_height": null,
            "max_width": null,
            "min_height": null,
            "min_width": null,
            "object_fit": null,
            "object_position": null,
            "order": null,
            "overflow": null,
            "overflow_x": null,
            "overflow_y": null,
            "padding": null,
            "right": null,
            "top": null,
            "visibility": null,
            "width": null
          }
        },
        "3526c602ef964914a659441ee05157f6": {
          "model_module": "@jupyter-widgets/controls",
          "model_name": "ProgressStyleModel",
          "model_module_version": "1.5.0",
          "state": {
            "_model_module": "@jupyter-widgets/controls",
            "_model_module_version": "1.5.0",
            "_model_name": "ProgressStyleModel",
            "_view_count": null,
            "_view_module": "@jupyter-widgets/base",
            "_view_module_version": "1.2.0",
            "_view_name": "StyleView",
            "bar_color": null,
            "description_width": ""
          }
        },
        "9407672ea37c436da36d3d1de575a654": {
          "model_module": "@jupyter-widgets/base",
          "model_name": "LayoutModel",
          "model_module_version": "1.2.0",
          "state": {
            "_model_module": "@jupyter-widgets/base",
            "_model_module_version": "1.2.0",
            "_model_name": "LayoutModel",
            "_view_count": null,
            "_view_module": "@jupyter-widgets/base",
            "_view_module_version": "1.2.0",
            "_view_name": "LayoutView",
            "align_content": null,
            "align_items": null,
            "align_self": null,
            "border": null,
            "bottom": null,
            "display": null,
            "flex": null,
            "flex_flow": null,
            "grid_area": null,
            "grid_auto_columns": null,
            "grid_auto_flow": null,
            "grid_auto_rows": null,
            "grid_column": null,
            "grid_gap": null,
            "grid_row": null,
            "grid_template_areas": null,
            "grid_template_columns": null,
            "grid_template_rows": null,
            "height": null,
            "justify_content": null,
            "justify_items": null,
            "left": null,
            "margin": null,
            "max_height": null,
            "max_width": null,
            "min_height": null,
            "min_width": null,
            "object_fit": null,
            "object_position": null,
            "order": null,
            "overflow": null,
            "overflow_x": null,
            "overflow_y": null,
            "padding": null,
            "right": null,
            "top": null,
            "visibility": null,
            "width": null
          }
        },
        "69b6d5b1f88248e18f90ae9db9fa9ad0": {
          "model_module": "@jupyter-widgets/controls",
          "model_name": "DescriptionStyleModel",
          "model_module_version": "1.5.0",
          "state": {
            "_model_module": "@jupyter-widgets/controls",
            "_model_module_version": "1.5.0",
            "_model_name": "DescriptionStyleModel",
            "_view_count": null,
            "_view_module": "@jupyter-widgets/base",
            "_view_module_version": "1.2.0",
            "_view_name": "StyleView",
            "description_width": ""
          }
        },
        "4adf7f534b6a494b93b8bfaf0ddcc7ed": {
          "model_module": "@jupyter-widgets/controls",
          "model_name": "HBoxModel",
          "model_module_version": "1.5.0",
          "state": {
            "_dom_classes": [],
            "_model_module": "@jupyter-widgets/controls",
            "_model_module_version": "1.5.0",
            "_model_name": "HBoxModel",
            "_view_count": null,
            "_view_module": "@jupyter-widgets/controls",
            "_view_module_version": "1.5.0",
            "_view_name": "HBoxView",
            "box_style": "",
            "children": [
              "IPY_MODEL_8d1211478ac34663bec92b8e1dd1a257",
              "IPY_MODEL_9085dd7c7561437582d6b79358a25ade",
              "IPY_MODEL_d943faedc8754118bdf251857f74ec16"
            ],
            "layout": "IPY_MODEL_d6782149fd4c4496b4da30f0f0020d34"
          }
        },
        "8d1211478ac34663bec92b8e1dd1a257": {
          "model_module": "@jupyter-widgets/controls",
          "model_name": "HTMLModel",
          "model_module_version": "1.5.0",
          "state": {
            "_dom_classes": [],
            "_model_module": "@jupyter-widgets/controls",
            "_model_module_version": "1.5.0",
            "_model_name": "HTMLModel",
            "_view_count": null,
            "_view_module": "@jupyter-widgets/controls",
            "_view_module_version": "1.5.0",
            "_view_name": "HTMLView",
            "description": "",
            "description_tooltip": null,
            "layout": "IPY_MODEL_536017bbc5e04ff8a76b591d5455f57a",
            "placeholder": "​",
            "style": "IPY_MODEL_f1a25ee2c8244ed88d3c654f7e7be6bf",
            "value": "pytorch_model.bin: 100%"
          }
        },
        "9085dd7c7561437582d6b79358a25ade": {
          "model_module": "@jupyter-widgets/controls",
          "model_name": "FloatProgressModel",
          "model_module_version": "1.5.0",
          "state": {
            "_dom_classes": [],
            "_model_module": "@jupyter-widgets/controls",
            "_model_module_version": "1.5.0",
            "_model_name": "FloatProgressModel",
            "_view_count": null,
            "_view_module": "@jupyter-widgets/controls",
            "_view_module_version": "1.5.0",
            "_view_name": "ProgressView",
            "bar_style": "success",
            "description": "",
            "description_tooltip": null,
            "layout": "IPY_MODEL_768b95827f1a4dada3aee1537e0ec985",
            "max": 380267417,
            "min": 0,
            "orientation": "horizontal",
            "style": "IPY_MODEL_fe7387050a3e42879ad6499adecfc4c8",
            "value": 380267417
          }
        },
        "d943faedc8754118bdf251857f74ec16": {
          "model_module": "@jupyter-widgets/controls",
          "model_name": "HTMLModel",
          "model_module_version": "1.5.0",
          "state": {
            "_dom_classes": [],
            "_model_module": "@jupyter-widgets/controls",
            "_model_module_version": "1.5.0",
            "_model_name": "HTMLModel",
            "_view_count": null,
            "_view_module": "@jupyter-widgets/controls",
            "_view_module_version": "1.5.0",
            "_view_name": "HTMLView",
            "description": "",
            "description_tooltip": null,
            "layout": "IPY_MODEL_bd5fbbafbb7343d389c7531b4f55d751",
            "placeholder": "​",
            "style": "IPY_MODEL_2cd43e36a0704b34830b31278bdbbe45",
            "value": " 380M/380M [00:01&lt;00:00, 247MB/s]"
          }
        },
        "d6782149fd4c4496b4da30f0f0020d34": {
          "model_module": "@jupyter-widgets/base",
          "model_name": "LayoutModel",
          "model_module_version": "1.2.0",
          "state": {
            "_model_module": "@jupyter-widgets/base",
            "_model_module_version": "1.2.0",
            "_model_name": "LayoutModel",
            "_view_count": null,
            "_view_module": "@jupyter-widgets/base",
            "_view_module_version": "1.2.0",
            "_view_name": "LayoutView",
            "align_content": null,
            "align_items": null,
            "align_self": null,
            "border": null,
            "bottom": null,
            "display": null,
            "flex": null,
            "flex_flow": null,
            "grid_area": null,
            "grid_auto_columns": null,
            "grid_auto_flow": null,
            "grid_auto_rows": null,
            "grid_column": null,
            "grid_gap": null,
            "grid_row": null,
            "grid_template_areas": null,
            "grid_template_columns": null,
            "grid_template_rows": null,
            "height": null,
            "justify_content": null,
            "justify_items": null,
            "left": null,
            "margin": null,
            "max_height": null,
            "max_width": null,
            "min_height": null,
            "min_width": null,
            "object_fit": null,
            "object_position": null,
            "order": null,
            "overflow": null,
            "overflow_x": null,
            "overflow_y": null,
            "padding": null,
            "right": null,
            "top": null,
            "visibility": null,
            "width": null
          }
        },
        "536017bbc5e04ff8a76b591d5455f57a": {
          "model_module": "@jupyter-widgets/base",
          "model_name": "LayoutModel",
          "model_module_version": "1.2.0",
          "state": {
            "_model_module": "@jupyter-widgets/base",
            "_model_module_version": "1.2.0",
            "_model_name": "LayoutModel",
            "_view_count": null,
            "_view_module": "@jupyter-widgets/base",
            "_view_module_version": "1.2.0",
            "_view_name": "LayoutView",
            "align_content": null,
            "align_items": null,
            "align_self": null,
            "border": null,
            "bottom": null,
            "display": null,
            "flex": null,
            "flex_flow": null,
            "grid_area": null,
            "grid_auto_columns": null,
            "grid_auto_flow": null,
            "grid_auto_rows": null,
            "grid_column": null,
            "grid_gap": null,
            "grid_row": null,
            "grid_template_areas": null,
            "grid_template_columns": null,
            "grid_template_rows": null,
            "height": null,
            "justify_content": null,
            "justify_items": null,
            "left": null,
            "margin": null,
            "max_height": null,
            "max_width": null,
            "min_height": null,
            "min_width": null,
            "object_fit": null,
            "object_position": null,
            "order": null,
            "overflow": null,
            "overflow_x": null,
            "overflow_y": null,
            "padding": null,
            "right": null,
            "top": null,
            "visibility": null,
            "width": null
          }
        },
        "f1a25ee2c8244ed88d3c654f7e7be6bf": {
          "model_module": "@jupyter-widgets/controls",
          "model_name": "DescriptionStyleModel",
          "model_module_version": "1.5.0",
          "state": {
            "_model_module": "@jupyter-widgets/controls",
            "_model_module_version": "1.5.0",
            "_model_name": "DescriptionStyleModel",
            "_view_count": null,
            "_view_module": "@jupyter-widgets/base",
            "_view_module_version": "1.2.0",
            "_view_name": "StyleView",
            "description_width": ""
          }
        },
        "768b95827f1a4dada3aee1537e0ec985": {
          "model_module": "@jupyter-widgets/base",
          "model_name": "LayoutModel",
          "model_module_version": "1.2.0",
          "state": {
            "_model_module": "@jupyter-widgets/base",
            "_model_module_version": "1.2.0",
            "_model_name": "LayoutModel",
            "_view_count": null,
            "_view_module": "@jupyter-widgets/base",
            "_view_module_version": "1.2.0",
            "_view_name": "LayoutView",
            "align_content": null,
            "align_items": null,
            "align_self": null,
            "border": null,
            "bottom": null,
            "display": null,
            "flex": null,
            "flex_flow": null,
            "grid_area": null,
            "grid_auto_columns": null,
            "grid_auto_flow": null,
            "grid_auto_rows": null,
            "grid_column": null,
            "grid_gap": null,
            "grid_row": null,
            "grid_template_areas": null,
            "grid_template_columns": null,
            "grid_template_rows": null,
            "height": null,
            "justify_content": null,
            "justify_items": null,
            "left": null,
            "margin": null,
            "max_height": null,
            "max_width": null,
            "min_height": null,
            "min_width": null,
            "object_fit": null,
            "object_position": null,
            "order": null,
            "overflow": null,
            "overflow_x": null,
            "overflow_y": null,
            "padding": null,
            "right": null,
            "top": null,
            "visibility": null,
            "width": null
          }
        },
        "fe7387050a3e42879ad6499adecfc4c8": {
          "model_module": "@jupyter-widgets/controls",
          "model_name": "ProgressStyleModel",
          "model_module_version": "1.5.0",
          "state": {
            "_model_module": "@jupyter-widgets/controls",
            "_model_module_version": "1.5.0",
            "_model_name": "ProgressStyleModel",
            "_view_count": null,
            "_view_module": "@jupyter-widgets/base",
            "_view_module_version": "1.2.0",
            "_view_name": "StyleView",
            "bar_color": null,
            "description_width": ""
          }
        },
        "bd5fbbafbb7343d389c7531b4f55d751": {
          "model_module": "@jupyter-widgets/base",
          "model_name": "LayoutModel",
          "model_module_version": "1.2.0",
          "state": {
            "_model_module": "@jupyter-widgets/base",
            "_model_module_version": "1.2.0",
            "_model_name": "LayoutModel",
            "_view_count": null,
            "_view_module": "@jupyter-widgets/base",
            "_view_module_version": "1.2.0",
            "_view_name": "LayoutView",
            "align_content": null,
            "align_items": null,
            "align_self": null,
            "border": null,
            "bottom": null,
            "display": null,
            "flex": null,
            "flex_flow": null,
            "grid_area": null,
            "grid_auto_columns": null,
            "grid_auto_flow": null,
            "grid_auto_rows": null,
            "grid_column": null,
            "grid_gap": null,
            "grid_row": null,
            "grid_template_areas": null,
            "grid_template_columns": null,
            "grid_template_rows": null,
            "height": null,
            "justify_content": null,
            "justify_items": null,
            "left": null,
            "margin": null,
            "max_height": null,
            "max_width": null,
            "min_height": null,
            "min_width": null,
            "object_fit": null,
            "object_position": null,
            "order": null,
            "overflow": null,
            "overflow_x": null,
            "overflow_y": null,
            "padding": null,
            "right": null,
            "top": null,
            "visibility": null,
            "width": null
          }
        },
        "2cd43e36a0704b34830b31278bdbbe45": {
          "model_module": "@jupyter-widgets/controls",
          "model_name": "DescriptionStyleModel",
          "model_module_version": "1.5.0",
          "state": {
            "_model_module": "@jupyter-widgets/controls",
            "_model_module_version": "1.5.0",
            "_model_name": "DescriptionStyleModel",
            "_view_count": null,
            "_view_module": "@jupyter-widgets/base",
            "_view_module_version": "1.2.0",
            "_view_name": "StyleView",
            "description_width": ""
          }
        }
      }
    }
  },
  "nbformat_minor": 0,
  "nbformat": 4,
  "cells": [
    {
      "source": [
        "# IMPORTANT: RUN THIS CELL IN ORDER TO IMPORT YOUR KAGGLE DATA SOURCES,\n",
        "# THEN FEEL FREE TO DELETE THIS CELL.\n",
        "# NOTE: THIS NOTEBOOK ENVIRONMENT DIFFERS FROM KAGGLE'S PYTHON\n",
        "# ENVIRONMENT SO THERE MAY BE MISSING LIBRARIES USED BY YOUR\n",
        "# NOTEBOOK.\n",
        "import kagglehub\n",
        "ejlok1_toronto_emotional_speech_set_tess_path = kagglehub.dataset_download('ejlok1/toronto-emotional-speech-set-tess')\n",
        "# ejlok1_surrey_audiovisual_expressed_emotion_savee_path = kagglehub.dataset_download('ejlok1/surrey-audiovisual-expressed-emotion-savee')\n",
        "\n",
        "print('Data source import complete.')\n"
      ],
      "metadata": {
        "id": "RPAPKLUZz6JY",
        "outputId": "8788559e-3010-4817-895f-079f5fb2466a",
        "colab": {
          "base_uri": "https://localhost:8080/"
        }
      },
      "cell_type": "code",
      "outputs": [
        {
          "output_type": "stream",
          "name": "stdout",
          "text": [
            "Downloading from https://www.kaggle.com/api/v1/datasets/download/ejlok1/toronto-emotional-speech-set-tess?dataset_version_number=1...\n"
          ]
        },
        {
          "output_type": "stream",
          "name": "stderr",
          "text": [
            "100%|██████████| 428M/428M [00:19<00:00, 22.8MB/s]"
          ]
        },
        {
          "output_type": "stream",
          "name": "stdout",
          "text": [
            "Extracting files...\n"
          ]
        },
        {
          "output_type": "stream",
          "name": "stderr",
          "text": [
            "\n"
          ]
        },
        {
          "output_type": "stream",
          "name": "stdout",
          "text": [
            "Data source import complete.\n"
          ]
        }
      ],
      "execution_count": 1
    },
    {
      "cell_type": "markdown",
      "source": [
        "### Import dependencies"
      ],
      "metadata": {
        "id": "rFVKLGJJz6Jd"
      }
    },
    {
      "cell_type": "code",
      "source": [
        "import pandas as pd\n",
        "import numpy as np\n",
        "import os\n",
        "import seaborn as sns\n",
        "import matplotlib.pyplot as plt\n",
        "import librosa\n",
        "import librosa.display\n",
        "from IPython.display import Audio\n",
        "from sklearn.manifold import TSNE\n",
        "\n",
        "import torchaudio\n",
        "import torch\n",
        "from torch.utils.data import Dataset, DataLoader\n",
        "from transformers import Wav2Vec2Model, Wav2Vec2Processor, Trainer, TrainingArguments, Wav2Vec2ForSequenceClassification\n",
        "\n",
        "import warnings\n",
        "warnings.filterwarnings('ignore')\n",
        "\n",
        "from google.colab import drive\n",
        "drive.mount('/content/drive')"
      ],
      "metadata": {
        "_uuid": "8f2839f25d086af736a60e9eeb907d3b93b6e0e5",
        "_cell_guid": "b1076dfc-b9ad-4769-8c92-a6c4dae69d19",
        "trusted": true,
        "execution": {
          "iopub.status.busy": "2024-12-06T16:29:24.810051Z",
          "iopub.execute_input": "2024-12-06T16:29:24.810438Z",
          "iopub.status.idle": "2024-12-06T16:29:24.817438Z",
          "shell.execute_reply.started": "2024-12-06T16:29:24.810404Z",
          "shell.execute_reply": "2024-12-06T16:29:24.815877Z"
        },
        "id": "yyev5AEUz6Jg",
        "colab": {
          "base_uri": "https://localhost:8080/"
        },
        "outputId": "fb7328fa-ac78-4ca9-822e-1a7faffad1d2"
      },
      "outputs": [
        {
          "output_type": "stream",
          "name": "stdout",
          "text": [
            "Mounted at /content/drive\n"
          ]
        }
      ],
      "execution_count": 2
    },
    {
      "cell_type": "markdown",
      "source": [
        "### Load data"
      ],
      "metadata": {
        "id": "PCSHDW8kz6Jh"
      }
    },
    {
      "cell_type": "markdown",
      "source": [
        "TESS Dataset"
      ],
      "metadata": {
        "id": "6ID2KRbUN8bo"
      }
    },
    {
      "cell_type": "code",
      "source": [
        "dataset_path = '/root/.cache/kagglehub/datasets/ejlok1/toronto-emotional-speech-set-tess/versions/1/tess toronto emotional speech set data'\n",
        "paths = []\n",
        "labels = []\n",
        "for dirname, _, filenames in os.walk(dataset_path):\n",
        "    for filename in filenames:\n",
        "        paths.append(os.path.join(dirname, filename))\n",
        "        label = filename.split('_')[-1]\n",
        "        label = label.split('.')[0]\n",
        "        labels.append(label.lower())\n",
        "    if len(paths) == 2800:\n",
        "        break\n",
        "print('Dataset is loaded')\n",
        "\n",
        "# dataframe\n",
        "df = pd.DataFrame()\n",
        "df['audio_paths'] = paths\n",
        "df['labels'] = labels\n",
        "print(df.head())\n",
        "\n",
        "print(df['labels'].value_counts())"
      ],
      "metadata": {
        "trusted": true,
        "execution": {
          "iopub.status.busy": "2024-12-06T16:05:19.839337Z",
          "iopub.execute_input": "2024-12-06T16:05:19.839754Z",
          "iopub.status.idle": "2024-12-06T16:05:21.257725Z",
          "shell.execute_reply.started": "2024-12-06T16:05:19.839702Z",
          "shell.execute_reply": "2024-12-06T16:05:21.256449Z"
        },
        "id": "Ni2rtdVMz6Jh",
        "outputId": "0df08c9e-a58d-428f-96eb-c78a7881a88f",
        "colab": {
          "base_uri": "https://localhost:8080/"
        }
      },
      "outputs": [
        {
          "output_type": "stream",
          "name": "stdout",
          "text": [
            "Dataset is loaded\n",
            "                                         audio_paths labels\n",
            "0  /root/.cache/kagglehub/datasets/ejlok1/toronto...   fear\n",
            "1  /root/.cache/kagglehub/datasets/ejlok1/toronto...   fear\n",
            "2  /root/.cache/kagglehub/datasets/ejlok1/toronto...   fear\n",
            "3  /root/.cache/kagglehub/datasets/ejlok1/toronto...   fear\n",
            "4  /root/.cache/kagglehub/datasets/ejlok1/toronto...   fear\n",
            "labels\n",
            "fear       400\n",
            "sad        400\n",
            "angry      400\n",
            "disgust    400\n",
            "ps         400\n",
            "neutral    400\n",
            "happy      400\n",
            "Name: count, dtype: int64\n"
          ]
        }
      ],
      "execution_count": 3
    },
    {
      "cell_type": "markdown",
      "source": [
        "CREMA-D Dataset"
      ],
      "metadata": {
        "id": "PozTMWn1N_R3"
      }
    },
    {
      "cell_type": "code",
      "source": [
        "# Download latest version\n",
        "path = kagglehub.dataset_download(\"ejlok1/cremad\")\n",
        "\n",
        "print(\"Path to dataset files:\", path)\n"
      ],
      "metadata": {
        "colab": {
          "base_uri": "https://localhost:8080/"
        },
        "id": "qYcsqCbHOWDW",
        "outputId": "49451e60-c4bf-413a-b623-8fa8b03f6c78"
      },
      "execution_count": 4,
      "outputs": [
        {
          "output_type": "stream",
          "name": "stdout",
          "text": [
            "Downloading from https://www.kaggle.com/api/v1/datasets/download/ejlok1/cremad?dataset_version_number=1...\n"
          ]
        },
        {
          "output_type": "stream",
          "name": "stderr",
          "text": [
            "100%|██████████| 451M/451M [00:21<00:00, 21.9MB/s]"
          ]
        },
        {
          "output_type": "stream",
          "name": "stdout",
          "text": [
            "Extracting files...\n"
          ]
        },
        {
          "output_type": "stream",
          "name": "stderr",
          "text": [
            "\n"
          ]
        },
        {
          "output_type": "stream",
          "name": "stdout",
          "text": [
            "Path to dataset files: /root/.cache/kagglehub/datasets/ejlok1/cremad/versions/1\n"
          ]
        }
      ]
    },
    {
      "cell_type": "code",
      "source": [
        "CREMA = '/root/.cache/kagglehub/datasets/ejlok1/cremad/versions/1/AudioWAV/'\n",
        "dir_list = os.listdir(CREMA)\n",
        "dir_list.sort()\n",
        "\n",
        "emotionG = []\n",
        "gender = []\n",
        "emotionO = []\n",
        "path = []\n",
        "female_ids = [1002,1003,1004,1006,1007,1008,1009,1010,1012,1013,1018,1020,1021,\n",
        "              1024,1025,1028,1029,1030,1037,1043,1046,1047,1049,1052,1053,1054,\n",
        "              1055,1056,1058,1060,1061,1063,1072,1073,1074,1075,1076,1078,1079,\n",
        "              1082,1084,1089,1091]\n",
        "\n",
        "temp_dict = {\"SAD\":\"sad\", \"ANG\": \"angry\", \"DIS\":\"disgust\", \"FEA\":\"fear\",\n",
        "             \"HAP\":\"happy\", \"NEU\":\"neutral\"}\n",
        "\n",
        "def get_emotion_crema(filename, ids=female_ids, dc=temp_dict):\n",
        "  filename = filename.split(\"_\")\n",
        "  emotionG1 = dc[filename[2]]\n",
        "  if int(filename[0]) in ids:\n",
        "    emotionG2 = \"_female\"\n",
        "  else:\n",
        "    emotionG2 = \"_male\"\n",
        "  emotionG = emotionG1 + emotionG2\n",
        "  return (emotionG, emotionG1, emotionG2[1:])\n",
        "\n",
        "\n",
        "for i in dir_list:\n",
        "  emotionG.append(get_emotion_crema(i)[0])\n",
        "  emotionO.append(get_emotion_crema(i)[1])\n",
        "  gender.append(get_emotion_crema(i)[2])\n",
        "  path.append(CREMA + i)\n",
        "\n",
        "CREMA_df = pd.DataFrame(emotionG, columns = ['emotionG_label'])\n",
        "CREMA_df['source'] = 'CREMA'\n",
        "CREMA_df = pd.concat([CREMA_df,pd.DataFrame(gender, columns = ['gender'])],axis=1)\n",
        "CREMA_df = pd.concat([CREMA_df,pd.DataFrame(emotionO, columns = ['emotion'])],axis=1)\n",
        "CREMA_df = pd.concat([CREMA_df,pd.DataFrame(path, columns = ['path'])],axis=1)\n",
        "\n",
        "# Filter only emotions that match TESS\n",
        "valid_emotions = ['neutral', 'sad', 'happy', 'disgust', 'fear', 'angry']\n",
        "CREMA_df = CREMA_df[CREMA_df['emotion'].isin(valid_emotions)]\n",
        "\n",
        "CREMA_df.emotionG_label.value_counts()\n"
      ],
      "metadata": {
        "colab": {
          "base_uri": "https://localhost:8080/",
          "height": 491
        },
        "id": "fvCejRhEOBhd",
        "outputId": "9430e47c-4348-45f7-d5d5-e49b630dca8e"
      },
      "execution_count": 5,
      "outputs": [
        {
          "output_type": "execute_result",
          "data": {
            "text/plain": [
              "emotionG_label\n",
              "angry_male        671\n",
              "disgust_male      671\n",
              "fear_male         671\n",
              "happy_male        671\n",
              "sad_male          671\n",
              "angry_female      600\n",
              "disgust_female    600\n",
              "fear_female       600\n",
              "happy_female      600\n",
              "sad_female        600\n",
              "neutral_male      575\n",
              "neutral_female    512\n",
              "Name: count, dtype: int64"
            ],
            "text/html": [
              "<div>\n",
              "<style scoped>\n",
              "    .dataframe tbody tr th:only-of-type {\n",
              "        vertical-align: middle;\n",
              "    }\n",
              "\n",
              "    .dataframe tbody tr th {\n",
              "        vertical-align: top;\n",
              "    }\n",
              "\n",
              "    .dataframe thead th {\n",
              "        text-align: right;\n",
              "    }\n",
              "</style>\n",
              "<table border=\"1\" class=\"dataframe\">\n",
              "  <thead>\n",
              "    <tr style=\"text-align: right;\">\n",
              "      <th></th>\n",
              "      <th>count</th>\n",
              "    </tr>\n",
              "    <tr>\n",
              "      <th>emotionG_label</th>\n",
              "      <th></th>\n",
              "    </tr>\n",
              "  </thead>\n",
              "  <tbody>\n",
              "    <tr>\n",
              "      <th>angry_male</th>\n",
              "      <td>671</td>\n",
              "    </tr>\n",
              "    <tr>\n",
              "      <th>disgust_male</th>\n",
              "      <td>671</td>\n",
              "    </tr>\n",
              "    <tr>\n",
              "      <th>fear_male</th>\n",
              "      <td>671</td>\n",
              "    </tr>\n",
              "    <tr>\n",
              "      <th>happy_male</th>\n",
              "      <td>671</td>\n",
              "    </tr>\n",
              "    <tr>\n",
              "      <th>sad_male</th>\n",
              "      <td>671</td>\n",
              "    </tr>\n",
              "    <tr>\n",
              "      <th>angry_female</th>\n",
              "      <td>600</td>\n",
              "    </tr>\n",
              "    <tr>\n",
              "      <th>disgust_female</th>\n",
              "      <td>600</td>\n",
              "    </tr>\n",
              "    <tr>\n",
              "      <th>fear_female</th>\n",
              "      <td>600</td>\n",
              "    </tr>\n",
              "    <tr>\n",
              "      <th>happy_female</th>\n",
              "      <td>600</td>\n",
              "    </tr>\n",
              "    <tr>\n",
              "      <th>sad_female</th>\n",
              "      <td>600</td>\n",
              "    </tr>\n",
              "    <tr>\n",
              "      <th>neutral_male</th>\n",
              "      <td>575</td>\n",
              "    </tr>\n",
              "    <tr>\n",
              "      <th>neutral_female</th>\n",
              "      <td>512</td>\n",
              "    </tr>\n",
              "  </tbody>\n",
              "</table>\n",
              "</div><br><label><b>dtype:</b> int64</label>"
            ]
          },
          "metadata": {},
          "execution_count": 5
        }
      ]
    },
    {
      "cell_type": "markdown",
      "source": [
        "### Create Dataset Class"
      ],
      "metadata": {
        "id": "ogKLefDtz6Jp"
      }
    },
    {
      "cell_type": "code",
      "source": [
        "# convert labels to integers\n",
        "label_map = {label: idx for idx, label in enumerate(df['labels'].unique())}\n",
        "df['labels'] = df['labels'].map(label_map)\n",
        "\n",
        "\n",
        "class SpeechDataset(Dataset):\n",
        "    def __init__(self, df, processor, max_length=32000):\n",
        "        self.df = df\n",
        "        self.processor = processor\n",
        "        self.max_length = max_length\n",
        "    def __len__(self):\n",
        "        return len(self.df)\n",
        "    def __getitem__(self, idx):\n",
        "        audio_path = self.df.iloc[idx]['audio_paths']\n",
        "        label = self.df.iloc[idx]['labels']\n",
        "\n",
        "        speech, sr = librosa.load(audio_path, sr=16000)\n",
        "\n",
        "        if len(speech) > self.max_length:\n",
        "            speech = speech[:self.max_length]\n",
        "        else:\n",
        "            speech = np.pad(speech, (0, self.max_length - len(speech)), 'constant')\n",
        "\n",
        "\n",
        "        inputs = self.processor(speech, sampling_rate=16000, return_tensors='pt', padding=True, truncate=True, max_length=self.max_length)\n",
        "\n",
        "\n",
        "        input_values = inputs.input_values.squeeze()\n",
        "        return {'input_values': input_values, 'labels': torch.tensor(label, dtype=torch.long)}\n",
        "\n",
        "# split into training and testing\n",
        "from sklearn.model_selection import train_test_split\n",
        "train_df, test_df = train_test_split(df, test_size=0.2, random_state=42)\n",
        "\n",
        "\n"
      ],
      "metadata": {
        "trusted": true,
        "execution": {
          "iopub.status.busy": "2024-12-06T16:24:58.404834Z",
          "iopub.execute_input": "2024-12-06T16:24:58.405732Z",
          "iopub.status.idle": "2024-12-06T16:24:58.415013Z",
          "shell.execute_reply.started": "2024-12-06T16:24:58.40569Z",
          "shell.execute_reply": "2024-12-06T16:24:58.413751Z"
        },
        "id": "7pzaPFvFz6Jq"
      },
      "outputs": [],
      "execution_count": 6
    },
    {
      "cell_type": "code",
      "source": [
        "class CREMADataset(Dataset):\n",
        "    def __init__(self, df, processor, max_length=32000):\n",
        "        self.df = df\n",
        "        self.processor = processor\n",
        "        self.max_length = max_length\n",
        "\n",
        "    def __len__(self):\n",
        "        return len(self.df)\n",
        "\n",
        "    def __getitem__(self, idx):\n",
        "        audio_path = self.df.iloc[idx]['path']\n",
        "        label = self.df.iloc[idx]['emotion']\n",
        "\n",
        "        # Load and resample audio\n",
        "        speech, sr = librosa.load(audio_path, sr=16000)\n",
        "\n",
        "        # Pad or truncate\n",
        "        if len(speech) > self.max_length:\n",
        "            speech = speech[:self.max_length]\n",
        "        else:\n",
        "            speech = np.pad(speech, (0, self.max_length - len(speech)), 'constant')\n",
        "\n",
        "        # Tokenize\n",
        "        inputs = self.processor(speech, sampling_rate=16000, return_tensors='pt', padding=True, truncation=True, max_length=self.max_length)\n",
        "\n",
        "        input_values = inputs.input_values.squeeze()\n",
        "        return {'input_values': input_values, 'labels': torch.tensor(label_map[label], dtype=torch.long)}\n",
        "\n",
        "\n",
        "# Label mapping from emotions to integers (same as TESS)\n",
        "label_map = {\"neutral\": 0, \"sad\": 1, \"happy\": 2, \"disgust\": 3, \"fear\": 4, \"angry\": 5}\n",
        "CREMA_df['labels'] = CREMA_df['emotion'].map(label_map)\n",
        "crema_train_df, crema_test_df = train_test_split(CREMA_df, test_size=0.2, random_state=42)\n",
        "\n",
        "\n",
        "\n"
      ],
      "metadata": {
        "id": "eAnlzGMkUQ7A"
      },
      "execution_count": 7,
      "outputs": []
    },
    {
      "cell_type": "code",
      "source": [
        "# initialize processor and model\n",
        "processor = Wav2Vec2Processor.from_pretrained('facebook/wav2vec2-base')\n",
        "model = Wav2Vec2ForSequenceClassification.from_pretrained('facebook/wav2vec2-base', num_labels=7)\n",
        "\n",
        "# load data\n",
        "train_dataset = SpeechDataset(train_df, processor)\n",
        "test_dataset = SpeechDataset(test_df, processor)\n",
        "crema_train_dataset = CREMADataset(crema_train_df, processor)\n",
        "crema_test_dataset = CREMADataset(crema_test_df, processor)\n",
        "\n",
        "# print(label_map)\n",
        "# print(set(test_dataset[i]['labels'].item() for i in range(len(test_dataset))))\n",
        "# print(set(train_dataset[i]['labels'].item() for i in range(len(train_dataset))))\n",
        "# print(set(crema_train_dataset[i]['labels'].item() for i in range(len(crema_train_dataset))))\n",
        "# print(set(crema_test_dataset[i]['labels'].item() for i in range(len(crema_test_dataset))))\n"
      ],
      "metadata": {
        "trusted": true,
        "execution": {
          "iopub.status.busy": "2024-12-06T16:29:31.591174Z",
          "iopub.execute_input": "2024-12-06T16:29:31.591595Z",
          "iopub.status.idle": "2024-12-06T16:30:03.969147Z",
          "shell.execute_reply.started": "2024-12-06T16:29:31.591537Z",
          "shell.execute_reply": "2024-12-06T16:30:03.967082Z"
        },
        "id": "kwfQ4TzJz6Jr",
        "outputId": "ff932514-93a5-4bda-98c6-009ccfd1edb7",
        "colab": {
          "base_uri": "https://localhost:8080/",
          "height": 264,
          "referenced_widgets": [
            "1af006a8b2a8463cb7cb474fdfea5634",
            "cd7c2d3d630247f2ae49d6cf3c7f208d",
            "80e38c772ca541d4be5c7b75256c70db",
            "56818bded2374bd287f449b94f0a8e11",
            "dfeeb23be39643ca8746b928a7a8ccae",
            "b58f0854060241cf98c3887f13760257",
            "458c8f2f754f4a4ea91501e07997269a",
            "82c9eab69a064e02ad653df36953d48e",
            "f1c462ecb0db4fbcb24f433b57f8ba12",
            "a99d47bb341e461097b5ce60f3302d13",
            "af4d330d10aa423ab57f6123e283e856",
            "92efd1f01b3e413c8aa4e6911bf22e15",
            "2cacde9cc37544999af9dc46ff4c9340",
            "5f30fb1334b1448dbc206b65e7a15cae",
            "98f93061721b4eba81d115b15800b57c",
            "31e5ffe1e1274d6598032b2a9591d572",
            "9012fae7393d4171b065a32e7b44cf3a",
            "7c2c5647246640398f7578ff06adeaef",
            "09016186a32f4e178cb7e1030967a9cc",
            "30f2a06e6e244b7d8506f739adca8287",
            "de3e715e25294302b0794a8981ad8645",
            "25c4f356f3304ba38da753c1b67ca342",
            "526badc5704545e9953dfe75f7d8f506",
            "7121c3b7a3ae43bdaa76cd6914e5c05f",
            "e63d1f4527e54a5ea67699089bfe5fdc",
            "efe17661ee69406199f550875e831e2f",
            "dd99659b92ec411eb4e5d97ed1b943db",
            "55e9cd572b7b4b9a9cd0d92d228ef17e",
            "9f97d7dffdfc461480eaee933c82f30f",
            "2addf9dc96a44b2da5a09b19fd740132",
            "8e5052d507034076aec92e08c18821f5",
            "fd62f51e16d54a62817a229c2bd7d2c1",
            "7edb5d5d5a6744a395b81678ac993ab5",
            "671767fcabd1458c8304c3b4cae6fc82",
            "04c0f8465bb946f38301d30a9b237d38",
            "b5dc6e209aa54f85a3fe8a7f52f17dc3",
            "c4e918c44087430e8b3dd91a0af78006",
            "6aedd96d26cf4332a38eaa6a47c56bb9",
            "68561861d3d74c80b3f3464e087ae9e0",
            "7535622005fd416d87a97763da4ac440",
            "fb873a951d754fdf8213e27369df16f7",
            "052ebb65f0e44fdea49264848c753bd9",
            "647f999151e44e43aecc12d66f352a11",
            "603f0949e75946129bb40f0f6948324c",
            "990da5af31cc4a7dbfc48c12a545f8fc",
            "a550921a4fc74ae8b6deff7cf2e15f58",
            "8496f199b4ed48bb8b0d0acad17a362d",
            "e3cc7a0cad9f455787b4ea053821b10d",
            "b298e0e880604e87baad12ad0c1fd147",
            "117d2be7a5d54c1f9a94b56ff99fe78c",
            "67136e5cc31f408884fec976b9472a5a",
            "90982a951ba14c27a04d8622918e3c45",
            "3526c602ef964914a659441ee05157f6",
            "9407672ea37c436da36d3d1de575a654",
            "69b6d5b1f88248e18f90ae9db9fa9ad0",
            "4adf7f534b6a494b93b8bfaf0ddcc7ed",
            "8d1211478ac34663bec92b8e1dd1a257",
            "9085dd7c7561437582d6b79358a25ade",
            "d943faedc8754118bdf251857f74ec16",
            "d6782149fd4c4496b4da30f0f0020d34",
            "536017bbc5e04ff8a76b591d5455f57a",
            "f1a25ee2c8244ed88d3c654f7e7be6bf",
            "768b95827f1a4dada3aee1537e0ec985",
            "fe7387050a3e42879ad6499adecfc4c8",
            "bd5fbbafbb7343d389c7531b4f55d751",
            "2cd43e36a0704b34830b31278bdbbe45"
          ]
        }
      },
      "outputs": [
        {
          "output_type": "display_data",
          "data": {
            "text/plain": [
              "preprocessor_config.json:   0%|          | 0.00/159 [00:00<?, ?B/s]"
            ],
            "application/vnd.jupyter.widget-view+json": {
              "version_major": 2,
              "version_minor": 0,
              "model_id": "1af006a8b2a8463cb7cb474fdfea5634"
            }
          },
          "metadata": {}
        },
        {
          "output_type": "display_data",
          "data": {
            "text/plain": [
              "tokenizer_config.json:   0%|          | 0.00/163 [00:00<?, ?B/s]"
            ],
            "application/vnd.jupyter.widget-view+json": {
              "version_major": 2,
              "version_minor": 0,
              "model_id": "92efd1f01b3e413c8aa4e6911bf22e15"
            }
          },
          "metadata": {}
        },
        {
          "output_type": "display_data",
          "data": {
            "text/plain": [
              "config.json:   0%|          | 0.00/1.84k [00:00<?, ?B/s]"
            ],
            "application/vnd.jupyter.widget-view+json": {
              "version_major": 2,
              "version_minor": 0,
              "model_id": "526badc5704545e9953dfe75f7d8f506"
            }
          },
          "metadata": {}
        },
        {
          "output_type": "display_data",
          "data": {
            "text/plain": [
              "vocab.json:   0%|          | 0.00/291 [00:00<?, ?B/s]"
            ],
            "application/vnd.jupyter.widget-view+json": {
              "version_major": 2,
              "version_minor": 0,
              "model_id": "671767fcabd1458c8304c3b4cae6fc82"
            }
          },
          "metadata": {}
        },
        {
          "output_type": "display_data",
          "data": {
            "text/plain": [
              "special_tokens_map.json:   0%|          | 0.00/85.0 [00:00<?, ?B/s]"
            ],
            "application/vnd.jupyter.widget-view+json": {
              "version_major": 2,
              "version_minor": 0,
              "model_id": "990da5af31cc4a7dbfc48c12a545f8fc"
            }
          },
          "metadata": {}
        },
        {
          "output_type": "display_data",
          "data": {
            "text/plain": [
              "pytorch_model.bin:   0%|          | 0.00/380M [00:00<?, ?B/s]"
            ],
            "application/vnd.jupyter.widget-view+json": {
              "version_major": 2,
              "version_minor": 0,
              "model_id": "4adf7f534b6a494b93b8bfaf0ddcc7ed"
            }
          },
          "metadata": {}
        },
        {
          "output_type": "stream",
          "name": "stderr",
          "text": [
            "Some weights of Wav2Vec2ForSequenceClassification were not initialized from the model checkpoint at facebook/wav2vec2-base and are newly initialized: ['classifier.bias', 'classifier.weight', 'projector.bias', 'projector.weight']\n",
            "You should probably TRAIN this model on a down-stream task to be able to use it for predictions and inference.\n"
          ]
        }
      ],
      "execution_count": 8
    },
    {
      "cell_type": "markdown",
      "source": [
        "### Training"
      ],
      "metadata": {
        "id": "Py0MvfIt46F4"
      }
    },
    {
      "cell_type": "code",
      "source": [
        "training_args = TrainingArguments(\n",
        "    output_dir='./results',\n",
        "    evaluation_strategy='epoch',\n",
        "    save_strategy='epoch',\n",
        "    learning_rate=1e-5,\n",
        "    lr_scheduler_type='cosine',\n",
        "    num_train_epochs=10,\n",
        "    per_device_train_batch_size=8,\n",
        "    per_device_eval_batch_size=8,\n",
        "    warmup_ratio=0.1,\n",
        "    weight_decay=0.01,\n",
        "    report_to=[]\n",
        ")"
      ],
      "metadata": {
        "trusted": true,
        "id": "hkMKd2HLz6Js"
      },
      "outputs": [],
      "execution_count": 15
    },
    {
      "cell_type": "code",
      "source": [
        "from sklearn.metrics import accuracy_score, precision_recall_fscore_support\n",
        "import numpy as np\n",
        "\n",
        "def compute_metrics(pred):\n",
        "    labels = pred.label_ids\n",
        "    preds = np.argmax(pred.predictions, axis=-1)\n",
        "\n",
        "    # Precision, Recall, F1 (Weighted)\n",
        "    precision, recall, f1, _ = precision_recall_fscore_support(labels, preds, average='weighted')\n",
        "\n",
        "    # Accuracy\n",
        "    acc = accuracy_score(labels, preds)\n",
        "\n",
        "    # Top-2 Accuracy\n",
        "    top_2_preds = np.argsort(pred.predictions, axis=-1)[:, -2:]  # Get indices of top-2 predictions\n",
        "    top_2_correct = np.any(top_2_preds == np.expand_dims(labels, axis=-1), axis=-1)  # Check if label is in top-2\n",
        "    top_2_acc = np.mean(top_2_correct)\n",
        "\n",
        "    return {\n",
        "        'accuracy': acc,\n",
        "        'f1': f1,\n",
        "        'precision': precision,\n",
        "        'recall': recall,\n",
        "        'top_2_accuracy': top_2_acc\n",
        "    }\n"
      ],
      "metadata": {
        "trusted": true,
        "id": "Iyb6FJTcz6Js"
      },
      "outputs": [],
      "execution_count": 14
    },
    {
      "cell_type": "code",
      "source": [
        "# Pretrain on TESS\n",
        "trainer = Trainer(\n",
        "    model=model,\n",
        "    args=training_args,\n",
        "    train_dataset=crema_train_dataset,  # TESS train dataset\n",
        "    eval_dataset=crema_test_dataset,   # TESS test dataset\n",
        "    compute_metrics=compute_metrics,  # Metric function\n",
        ")\n",
        "\n",
        "trainer.train()  # Pretrain on TESS\n",
        "\n",
        "# Evaluate on CREMA\n",
        "results = trainer.evaluate()\n",
        "print(results)\n"
      ],
      "metadata": {
        "trusted": true,
        "id": "WTwz00R7z6Js",
        "colab": {
          "base_uri": "https://localhost:8080/",
          "height": 446
        },
        "outputId": "f086366b-9766-4b38-a7a9-c3ab4b6ee3bd"
      },
      "outputs": [
        {
          "output_type": "display_data",
          "data": {
            "text/plain": [
              "<IPython.core.display.HTML object>"
            ],
            "text/html": [
              "\n",
              "    <div>\n",
              "      \n",
              "      <progress value='7450' max='7450' style='width:300px; height:20px; vertical-align: middle;'></progress>\n",
              "      [7450/7450 46:40, Epoch 10/10]\n",
              "    </div>\n",
              "    <table border=\"1\" class=\"dataframe\">\n",
              "  <thead>\n",
              " <tr style=\"text-align: left;\">\n",
              "      <th>Epoch</th>\n",
              "      <th>Training Loss</th>\n",
              "      <th>Validation Loss</th>\n",
              "      <th>Accuracy</th>\n",
              "      <th>F1</th>\n",
              "      <th>Precision</th>\n",
              "      <th>Recall</th>\n",
              "      <th>Top 2 Accuracy</th>\n",
              "    </tr>\n",
              "  </thead>\n",
              "  <tbody>\n",
              "    <tr>\n",
              "      <td>1</td>\n",
              "      <td>0.815400</td>\n",
              "      <td>0.841077</td>\n",
              "      <td>0.713230</td>\n",
              "      <td>0.708734</td>\n",
              "      <td>0.724680</td>\n",
              "      <td>0.713230</td>\n",
              "      <td>0.889187</td>\n",
              "    </tr>\n",
              "    <tr>\n",
              "      <td>2</td>\n",
              "      <td>0.683400</td>\n",
              "      <td>0.887184</td>\n",
              "      <td>0.707858</td>\n",
              "      <td>0.707762</td>\n",
              "      <td>0.734398</td>\n",
              "      <td>0.707858</td>\n",
              "      <td>0.885829</td>\n",
              "    </tr>\n",
              "    <tr>\n",
              "      <td>3</td>\n",
              "      <td>0.591100</td>\n",
              "      <td>0.952069</td>\n",
              "      <td>0.689725</td>\n",
              "      <td>0.689927</td>\n",
              "      <td>0.731505</td>\n",
              "      <td>0.689725</td>\n",
              "      <td>0.861652</td>\n",
              "    </tr>\n",
              "    <tr>\n",
              "      <td>4</td>\n",
              "      <td>0.571000</td>\n",
              "      <td>0.832818</td>\n",
              "      <td>0.732035</td>\n",
              "      <td>0.734125</td>\n",
              "      <td>0.747866</td>\n",
              "      <td>0.732035</td>\n",
              "      <td>0.896575</td>\n",
              "    </tr>\n",
              "    <tr>\n",
              "      <td>5</td>\n",
              "      <td>0.464600</td>\n",
              "      <td>0.883809</td>\n",
              "      <td>0.752183</td>\n",
              "      <td>0.752074</td>\n",
              "      <td>0.759837</td>\n",
              "      <td>0.752183</td>\n",
              "      <td>0.910007</td>\n",
              "    </tr>\n",
              "    <tr>\n",
              "      <td>6</td>\n",
              "      <td>0.455100</td>\n",
              "      <td>1.003734</td>\n",
              "      <td>0.753526</td>\n",
              "      <td>0.751304</td>\n",
              "      <td>0.755901</td>\n",
              "      <td>0.753526</td>\n",
              "      <td>0.915379</td>\n",
              "    </tr>\n",
              "    <tr>\n",
              "      <td>7</td>\n",
              "      <td>0.367700</td>\n",
              "      <td>1.223468</td>\n",
              "      <td>0.728677</td>\n",
              "      <td>0.723991</td>\n",
              "      <td>0.745840</td>\n",
              "      <td>0.728677</td>\n",
              "      <td>0.898590</td>\n",
              "    </tr>\n",
              "    <tr>\n",
              "      <td>8</td>\n",
              "      <td>0.306700</td>\n",
              "      <td>1.128978</td>\n",
              "      <td>0.766286</td>\n",
              "      <td>0.764188</td>\n",
              "      <td>0.770446</td>\n",
              "      <td>0.766286</td>\n",
              "      <td>0.918737</td>\n",
              "    </tr>\n",
              "    <tr>\n",
              "      <td>9</td>\n",
              "      <td>0.291500</td>\n",
              "      <td>1.167126</td>\n",
              "      <td>0.758899</td>\n",
              "      <td>0.757642</td>\n",
              "      <td>0.766786</td>\n",
              "      <td>0.758899</td>\n",
              "      <td>0.914708</td>\n",
              "    </tr>\n",
              "    <tr>\n",
              "      <td>10</td>\n",
              "      <td>0.251200</td>\n",
              "      <td>1.141133</td>\n",
              "      <td>0.758227</td>\n",
              "      <td>0.757130</td>\n",
              "      <td>0.764339</td>\n",
              "      <td>0.758227</td>\n",
              "      <td>0.916051</td>\n",
              "    </tr>\n",
              "  </tbody>\n",
              "</table><p>"
            ]
          },
          "metadata": {}
        },
        {
          "output_type": "display_data",
          "data": {
            "text/plain": [
              "<IPython.core.display.HTML object>"
            ],
            "text/html": [
              "\n",
              "    <div>\n",
              "      \n",
              "      <progress value='187' max='187' style='width:300px; height:20px; vertical-align: middle;'></progress>\n",
              "      [187/187 00:14]\n",
              "    </div>\n",
              "    "
            ]
          },
          "metadata": {}
        },
        {
          "output_type": "stream",
          "name": "stdout",
          "text": [
            "{'eval_loss': 1.1411329507827759, 'eval_accuracy': 0.758226997985225, 'eval_f1': 0.7571297393830979, 'eval_precision': 0.7643393009049428, 'eval_recall': 0.758226997985225, 'eval_top_2_accuracy': 0.916051040967092, 'eval_runtime': 14.7692, 'eval_samples_per_second': 100.818, 'eval_steps_per_second': 12.661, 'epoch': 10.0}\n"
          ]
        }
      ],
      "execution_count": 16
    },
    {
      "cell_type": "markdown",
      "source": [
        "### Evaluation on CREMA-D dataset"
      ],
      "metadata": {
        "id": "h2mZMoEhUaLK"
      }
    },
    {
      "cell_type": "code",
      "source": [
        "from tqdm import tqdm\n",
        "# Evaluate the model\n",
        "def evaluate_model(model, dataset):\n",
        "    model.eval()\n",
        "    predictions, true_labels = [], []\n",
        "\n",
        "    for i in tqdm(range(len(dataset)), desc=\"Evaluating Model On Crema Dataset\"):\n",
        "        batch = dataset[i]\n",
        "        inputs = batch['input_values'].unsqueeze(0).to('cuda')\n",
        "        labels = batch['labels'].unsqueeze(0).to('cuda')\n",
        "\n",
        "        with torch.no_grad():\n",
        "            logits = model(inputs).logits\n",
        "            preds = torch.argmax(logits, dim=-1)\n",
        "\n",
        "        predictions.extend(preds.cpu().numpy())\n",
        "        true_labels.extend(labels.cpu().numpy())\n",
        "\n",
        "    accuracy = accuracy_score(true_labels, predictions)\n",
        "    return accuracy\n",
        "\n",
        "\n",
        "# Evaluate\n",
        "crema_accuracy = evaluate_model(model, crema_dataset)\n",
        "print(f\"Accuracy on CREMA-D: {crema_accuracy:.4f}\")\n"
      ],
      "metadata": {
        "colab": {
          "base_uri": "https://localhost:8080/"
        },
        "id": "uP5gJxlsUdE0",
        "outputId": "31699f16-71d7-40d3-d573-51721c917283"
      },
      "execution_count": null,
      "outputs": [
        {
          "output_type": "stream",
          "name": "stderr",
          "text": [
            "Evaluating Model On Crema Dataset: 100%|██████████| 7442/7442 [02:13<00:00, 55.55it/s]"
          ]
        },
        {
          "output_type": "stream",
          "name": "stdout",
          "text": [
            "Accuracy on CREMA-D: 0.2814\n"
          ]
        },
        {
          "output_type": "stream",
          "name": "stderr",
          "text": [
            "\n"
          ]
        }
      ]
    },
    {
      "cell_type": "markdown",
      "source": [
        "### Save the Model For Reuse without retraining"
      ],
      "metadata": {
        "id": "lPHf2ncRBCvH"
      }
    },
    {
      "cell_type": "code",
      "source": [
        "# Save the model and tokenizer/processor\n",
        "model.save_pretrained(\"./saved_model\")\n",
        "processor.save_pretrained(\"./saved_model\")\n"
      ],
      "metadata": {
        "id": "bGXu-BguBGGs",
        "colab": {
          "base_uri": "https://localhost:8080/"
        },
        "outputId": "2a41b69b-9015-47d2-d7bc-4b908f26a957"
      },
      "execution_count": 23,
      "outputs": [
        {
          "output_type": "execute_result",
          "data": {
            "text/plain": [
              "[]"
            ]
          },
          "metadata": {},
          "execution_count": 23
        }
      ]
    },
    {
      "cell_type": "markdown",
      "source": [
        "### Feature Extraction"
      ],
      "metadata": {
        "id": "Y_m-GsytConk"
      }
    },
    {
      "cell_type": "code",
      "source": [
        "from tqdm import tqdm\n",
        "\n",
        "device = \"cuda\" if torch.cuda.is_available() else \"cpu\" # you should use a GPU for this task, otherwise it will be very slow\n",
        "\n",
        "def extract_features(model, processor, dataset, output_dir, split_name, num_layers=13, num_features=768):\n",
        "    model.to(device)\n",
        "\n",
        "    #initialize hidden states tensor to avoid itereative concatenation which is very slow\n",
        "    hidden_states = torch.zeros((len(dataset), num_layers, num_features))\n",
        "\n",
        "    # iterate over the dataset\n",
        "    for i, example in enumerate(tqdm(dataset, desc=f\"Extracting {split_name} features\")):\n",
        "        #preprocess the data, check your data how to call your audio file (here it is [\"audio\"][\"array\"])\n",
        "        inputs = example['input_values'].unsqueeze(0).to(device)  # Use dataset class structure\n",
        "\n",
        "        with torch.no_grad():\n",
        "            outputs = model(inputs, output_hidden_states=True, return_dict=True)\n",
        "\n",
        "        # average the hidden states over the time axis for each layer j\n",
        "        for j, hidden_state in enumerate(outputs.hidden_states):\n",
        "            hs_mean = torch.mean(hidden_state, dim=1)\n",
        "            hidden_states[i, j] = hs_mean\n",
        "\n",
        "        #optional saving after 100 steps\n",
        "        # depending on the size of your dataset this process can time out so better save intermediate results\n",
        "        if i > 0 and i % 100 == 0:\n",
        "            intermediate_path = os.path.join(output_dir, f\"{split_name}_hidden_states.npy\")\n",
        "            np.save(intermediate_path, hidden_states.cpu().numpy())\n",
        "            # print(f\"Saved intermediate features for {split_name}: {intermediate_path}\")\n",
        "\n",
        "    final_path = os.path.join(output_dir, f\"{split_name}_hidden_states.npy\")\n",
        "    np.save(final_path, hidden_states.cpu().numpy())\n",
        "    print(f\"Saved final features for {split_name}: {final_path}\")\n",
        "\n"
      ],
      "metadata": {
        "id": "yiXrbf6ZCrC9"
      },
      "execution_count": 24,
      "outputs": []
    },
    {
      "cell_type": "code",
      "source": [
        "output_dir = \"./hidden_features\"\n",
        "os.makedirs(output_dir, exist_ok=True)\n",
        "\n",
        "print(\"Extracting model hidden features\")\n",
        "extract_features(model, processor, train_dataset, output_dir, \"train\")\n",
        "extract_features(model, processor, test_dataset, output_dir, \"test\")"
      ],
      "metadata": {
        "colab": {
          "base_uri": "https://localhost:8080/"
        },
        "id": "jwsrENo2CyGj",
        "outputId": "55c74d25-f6f3-4a7e-ab7d-a0434fe5b637"
      },
      "execution_count": 25,
      "outputs": [
        {
          "output_type": "stream",
          "name": "stdout",
          "text": [
            "Extracting model hidden features\n"
          ]
        },
        {
          "output_type": "stream",
          "name": "stderr",
          "text": [
            "Extracting train features: 100%|██████████| 2240/2240 [00:44<00:00, 50.33it/s]\n"
          ]
        },
        {
          "output_type": "stream",
          "name": "stdout",
          "text": [
            "Saved final features for train: ./hidden_features/train_hidden_states.npy\n"
          ]
        },
        {
          "output_type": "stream",
          "name": "stderr",
          "text": [
            "Extracting test features: 100%|██████████| 560/560 [00:10<00:00, 50.96it/s]"
          ]
        },
        {
          "output_type": "stream",
          "name": "stdout",
          "text": [
            "Saved final features for test: ./hidden_features/test_hidden_states.npy\n"
          ]
        },
        {
          "output_type": "stream",
          "name": "stderr",
          "text": [
            "\n"
          ]
        }
      ]
    },
    {
      "cell_type": "code",
      "source": [
        "from sklearn.manifold import TSNE\n",
        "import matplotlib.pyplot as plt\n",
        "\n",
        "# lets load the hidden states and check the shape\n",
        "hidden_states = np.load(\"hidden_features/train_hidden_states.npy\")\n",
        "labels = np.array(train_df['labels'])\n",
        "unique_labels = np.unique(labels)\n",
        "\n",
        "# visualize the hidden states using tsne of a few layers\n",
        "fig, axes = plt.subplots(1, 3, figsize=(15, 5))\n",
        "\n",
        "for idx, layer in enumerate([0, 6, 12]):\n",
        "    X_embedded = TSNE().fit_transform(hidden_states[:, layer, :])\n",
        "    ax = axes[idx]\n",
        "    for i in range(len(unique_labels)):\n",
        "        ax.scatter(X_embedded[labels == unique_labels[i], 0], X_embedded[labels == unique_labels[i], 1], marker='o')\n",
        "    ax.set_title(f\"Layer {layer}\")\n",
        "\n",
        "plt.tight_layout()\n",
        "plt.show()"
      ],
      "metadata": {
        "colab": {
          "base_uri": "https://localhost:8080/",
          "height": 507
        },
        "id": "ydBRaRt4ECHb",
        "outputId": "503fc907-9e71-402e-a02c-0304287c8a05"
      },
      "execution_count": 26,
      "outputs": [
        {
          "output_type": "display_data",
          "data": {
            "text/plain": [
              "<Figure size 1500x500 with 3 Axes>"
            ],
            "image/png": "[encoded data removed]"
          },
          "metadata": {}
        }
      ]
    },
    {
      "cell_type": "markdown",
      "source": [
        "### Similarity Metrics"
      ],
      "metadata": {
        "id": "URNQ2hSfFh4Q"
      }
    },
    {
      "cell_type": "code",
      "source": [
        "# provided code:\n",
        "import torch\n",
        "from sklearn.metrics.pairwise import linear_kernel\n",
        "import numpy as np\n",
        "\n",
        "\n",
        "### TAKEN FROM HERE: https://github.com/minyoungg/platonic-rep/blob/main/metrics.py\n",
        "\n",
        "## mutual KNN\n",
        "def compute_nearest_neighbors(feats, topk=1):\n",
        "    \"\"\"\n",
        "    Compute the nearest neighbors of feats\n",
        "    Args:\n",
        "        feats: a torch tensor of shape N x D\n",
        "        topk: the number of nearest neighbors to return\n",
        "    Returns:\n",
        "        knn: a torch tensor of shape N x topk\n",
        "    \"\"\"\n",
        "    assert feats.ndim == 2, f\"Expected feats to be 2D, got {feats.ndim}\"\n",
        "    knn = (\n",
        "        (feats @ feats.T).fill_diagonal_(-1e8).argsort(dim=1, descending=True)[:, :topk]\n",
        "    )\n",
        "    return knn\n",
        "\n",
        "def mutual_knn(feats_A, feats_B, topk):\n",
        "    \"\"\"\n",
        "    Computes the mutual KNN accuracy.\n",
        "\n",
        "    Args:\n",
        "        feats_A: A torch tensor of shape N x feat_dim\n",
        "        feats_B: A torch tensor of shape N x feat_dim\n",
        "\n",
        "    Returns:\n",
        "        A float representing the mutual KNN accuracy\n",
        "    \"\"\"\n",
        "    knn_A = compute_nearest_neighbors(feats_A, topk)\n",
        "    knn_B = compute_nearest_neighbors(feats_B, topk)\n",
        "\n",
        "    n = knn_A.shape[0]\n",
        "    topk = knn_A.shape[1]\n",
        "\n",
        "    # Create a range tensor for indexing\n",
        "    range_tensor = torch.arange(n, device=knn_A.device).unsqueeze(1)\n",
        "\n",
        "    # Create binary masks for knn_A and knn_B\n",
        "    lvm_mask = torch.zeros(n, n, device=knn_A.device)\n",
        "    llm_mask = torch.zeros(n, n, device=knn_A.device)\n",
        "\n",
        "    lvm_mask[range_tensor, knn_A] = 1.0\n",
        "    llm_mask[range_tensor, knn_B] = 1.0\n",
        "\n",
        "    acc = (lvm_mask * llm_mask).sum(dim=1) / topk\n",
        "\n",
        "    return acc.mean().item()\n",
        "\n",
        "\n",
        "## CKA\n",
        "def hsic_unbiased(K, L):\n",
        "    \"\"\"\n",
        "    Compute the unbiased Hilbert-Schmidt Independence Criterion (HSIC) as per Equation 5 in the paper.\n",
        "    > Reference: https://jmlr.csail.mit.edu/papers/volume13/song12a/song12a.pdf\n",
        "    \"\"\"\n",
        "    m = K.shape[0]\n",
        "\n",
        "    # Zero out the diagonal elements of K and L\n",
        "    K_tilde = K.clone().fill_diagonal_(0)\n",
        "    L_tilde = L.clone().fill_diagonal_(0)\n",
        "\n",
        "    # Compute HSIC using the formula in Equation 5\n",
        "    HSIC_value = (\n",
        "        (torch.sum(K_tilde * L_tilde.T))\n",
        "        + (torch.sum(K_tilde) * torch.sum(L_tilde) / ((m - 1) * (m - 2)))\n",
        "        - (2 * torch.sum(torch.mm(K_tilde, L_tilde)) / (m - 2))\n",
        "    )\n",
        "\n",
        "    HSIC_value /= m * (m - 3)\n",
        "    return HSIC_value\n",
        "\n",
        "\n",
        "def hsic_biased(K, L):\n",
        "    \"\"\" Compute the biased HSIC (the original CKA) \"\"\"\n",
        "    H = torch.eye(K.shape[0], dtype=K.dtype, device=K.device) - 1 / K.shape[0]\n",
        "    return torch.trace(K @ H @ L @ H)\n",
        "\n",
        "def cka(feats_A, feats_B, kernel_metric='ip', rbf_sigma=1.0, unbiased=False):\n",
        "        \"\"\"Computes the unbiased Centered Kernel Alignment (CKA) between features.\"\"\"\n",
        "\n",
        "        if kernel_metric == 'ip':\n",
        "            # Compute kernel matrices for the linear case\n",
        "            K = torch.mm(feats_A, feats_A.T)\n",
        "            L = torch.mm(feats_B, feats_B.T)\n",
        "        elif kernel_metric == 'rbf':\n",
        "            # COMPUTES RBF KERNEL\n",
        "            K = torch.exp(-torch.cdist(feats_A, feats_A) ** 2 / (2 * rbf_sigma ** 2))\n",
        "            L = torch.exp(-torch.cdist(feats_B, feats_B) ** 2 / (2 * rbf_sigma ** 2))\n",
        "        else:\n",
        "            raise ValueError(f\"Invalid kernel metric {kernel_metric}\")\n",
        "\n",
        "        # Compute HSIC values\n",
        "        hsic_fn = hsic_unbiased if unbiased else hsic_biased\n",
        "        hsic_kk = hsic_fn(K, K)\n",
        "        hsic_ll = hsic_fn(L, L)\n",
        "        hsic_kl = hsic_fn(K, L)\n",
        "\n",
        "        # Compute CKA\n",
        "        #print('hsic', hsic_kl)\n",
        "        cka_value = hsic_kl / (torch.sqrt(hsic_kk * hsic_ll) + 1e-6)\n",
        "        return cka_value.item()\n",
        "\n",
        "\n",
        "def cosine_similarity(feats_A, feats_B):\n",
        "    \"\"\"\n",
        "    Compute the cosine similarity between two sets of features.\n",
        "    Args:\n",
        "        feats_A: a torch tensor of shape N x D\n",
        "        feats_B: a torch tensor of shape N x D\n",
        "    Returns:\n",
        "        a torch tensor of shape N x N\n",
        "    \"\"\"\n",
        "    assert feats_A.ndim == 2, f\"Expected feats_A to be 2D, got {feats_A.ndim}\"\n",
        "    assert feats_B.ndim == 2, f\"Expected feats_B to be 2D, got {feats_B.ndim}\"\n",
        "    feats_A = feats_A / torch.norm(feats_A, dim=1, keepdim=True)\n",
        "    feats_B = feats_B / torch.norm(feats_B, dim=1, keepdim=True)\n",
        "    return feats_A @ feats_B.T"
      ],
      "metadata": {
        "id": "zTHVpKEgFj8F"
      },
      "execution_count": 27,
      "outputs": []
    },
    {
      "cell_type": "code",
      "source": [
        "import seaborn as sns\n",
        "import matplotlib.pyplot as plt\n",
        "\n",
        "hidden_states = np.load(\"hidden_features/train_hidden_states.npy\")\n",
        "\n",
        "num_layers = hidden_states.shape[1]\n",
        "num_samples = hidden_states.shape[0]\n",
        "hidden_states = torch.tensor(hidden_states)\n",
        "\n",
        "cka_matrix = np.zeros((num_layers, num_layers))\n",
        "for i in range(num_layers):\n",
        "    for j in range(num_layers):\n",
        "        cka_matrix[i, j] = cka(hidden_states[:, i, :], hidden_states[:, j, :])\n",
        "\n",
        "knn_matrix = np.zeros((num_layers, num_layers))\n",
        "for i in range(num_layers):\n",
        "    for j in range(num_layers):\n",
        "        knn_matrix[i, j] = mutual_knn(hidden_states[:, i, :], hidden_states[:, j, :], topk=5)\n",
        "\n",
        "\n",
        "# Compute cosine similarity\n",
        "cosine_matrix = np.zeros((num_layers, num_layers))\n",
        "for i in range(num_layers):\n",
        "    for j in range(num_layers):\n",
        "        cosine_matrix[i, j] = cosine_similarity(hidden_states[:, i, :], hidden_states[:, j, :]).trace()/num_samples\n",
        "\n",
        "\n",
        "fig, axes = plt.subplots(1, 3, figsize=(20, 6))\n",
        "\n",
        "sns.heatmap(cka_matrix, ax=axes[0], cmap=\"viridis\")\n",
        "axes[0].set_title(\"CKA Similarity Matrix Across Layers\")\n",
        "\n",
        "sns.heatmap(knn_matrix, ax=axes[1], cmap=\"viridis\")\n",
        "axes[1].set_title(\"Mutual kNN Similarity Matrix Across Layers\")\n",
        "axes[1].set_xlabel(\"Layers\")\n",
        "axes[1].set_ylabel(\"Layers\")\n",
        "\n",
        "sns.heatmap(cosine_matrix, ax=axes[2], cmap=\"viridis\")\n",
        "axes[2].set_title(\"Cosine Similarity Matrix Across Layers\")\n",
        "axes[2].set_xlabel(\"Layers\")\n",
        "axes[2].set_ylabel(\"Layers\")\n",
        "\n",
        "plt.tight_layout()\n",
        "plt.show()"
      ],
      "metadata": {
        "colab": {
          "base_uri": "https://localhost:8080/",
          "height": 468
        },
        "id": "QaWdepO-FlOA",
        "outputId": "89676071-3e08-4f4c-c1cc-1a62d1396e62"
      },
      "execution_count": 28,
      "outputs": [
        {
          "output_type": "display_data",
          "data": {
            "text/plain": [
              "<Figure size 2000x600 with 6 Axes>"
            ],
            "image/png": "[encoded data removed]"
          },
          "metadata": {}
        }
      ]
    },
    {
      "cell_type": "markdown",
      "source": [
        "## Knowledge Distillation"
      ],
      "metadata": {
        "id": "vWm1Eiab1F1V"
      }
    },
    {
      "cell_type": "code",
      "source": [
        "# load teacher model from above training\n",
        "# processor = Wav2Vec2Processor.from_pretrained('facebook/wav2vec2-base')\n",
        "# teacher_model = Wav2Vec2ForSequenceClassification.from_pretrained('facebook/wav2vec2-base', num_labels=7)\n",
        "# teacher_model.load_state_dict(torch.load('/content/drive/MyDrive/Emotion Recognition Model/teacher_model.pt'))\n",
        "teacher_model = model\n",
        "teacher_model.to('cuda')\n",
        "teacher_model.eval()"
      ],
      "metadata": {
        "colab": {
          "base_uri": "https://localhost:8080/"
        },
        "id": "4luzyBkHnnZR",
        "outputId": "102104f8-3e33-4f51-d335-55654cb9e100"
      },
      "execution_count": 29,
      "outputs": [
        {
          "output_type": "execute_result",
          "data": {
            "text/plain": [
              "Wav2Vec2ForSequenceClassification(\n",
              "  (wav2vec2): Wav2Vec2Model(\n",
              "    (feature_extractor): Wav2Vec2FeatureEncoder(\n",
              "      (conv_layers): ModuleList(\n",
              "        (0): Wav2Vec2GroupNormConvLayer(\n",
              "          (conv): Conv1d(1, 512, kernel_size=(10,), stride=(5,), bias=False)\n",
              "          (activation): GELUActivation()\n",
              "          (layer_norm): GroupNorm(512, 512, eps=1e-05, affine=True)\n",
              "        )\n",
              "        (1-4): 4 x Wav2Vec2NoLayerNormConvLayer(\n",
              "          (conv): Conv1d(512, 512, kernel_size=(3,), stride=(2,), bias=False)\n",
              "          (activation): GELUActivation()\n",
              "        )\n",
              "        (5-6): 2 x Wav2Vec2NoLayerNormConvLayer(\n",
              "          (conv): Conv1d(512, 512, kernel_size=(2,), stride=(2,), bias=False)\n",
              "          (activation): GELUActivation()\n",
              "        )\n",
              "      )\n",
              "    )\n",
              "    (feature_projection): Wav2Vec2FeatureProjection(\n",
              "      (layer_norm): LayerNorm((512,), eps=1e-05, elementwise_affine=True)\n",
              "      (projection): Linear(in_features=512, out_features=768, bias=True)\n",
              "      (dropout): Dropout(p=0.1, inplace=False)\n",
              "    )\n",
              "    (encoder): Wav2Vec2Encoder(\n",
              "      (pos_conv_embed): Wav2Vec2PositionalConvEmbedding(\n",
              "        (conv): ParametrizedConv1d(\n",
              "          768, 768, kernel_size=(128,), stride=(1,), padding=(64,), groups=16\n",
              "          (parametrizations): ModuleDict(\n",
              "            (weight): ParametrizationList(\n",
              "              (0): _WeightNorm()\n",
              "            )\n",
              "          )\n",
              "        )\n",
              "        (padding): Wav2Vec2SamePadLayer()\n",
              "        (activation): GELUActivation()\n",
              "      )\n",
              "      (layer_norm): LayerNorm((768,), eps=1e-05, elementwise_affine=True)\n",
              "      (dropout): Dropout(p=0.1, inplace=False)\n",
              "      (layers): ModuleList(\n",
              "        (0-11): 12 x Wav2Vec2EncoderLayer(\n",
              "          (attention): Wav2Vec2SdpaAttention(\n",
              "            (k_proj): Linear(in_features=768, out_features=768, bias=True)\n",
              "            (v_proj): Linear(in_features=768, out_features=768, bias=True)\n",
              "            (q_proj): Linear(in_features=768, out_features=768, bias=True)\n",
              "            (out_proj): Linear(in_features=768, out_features=768, bias=True)\n",
              "          )\n",
              "          (dropout): Dropout(p=0.1, inplace=False)\n",
              "          (layer_norm): LayerNorm((768,), eps=1e-05, elementwise_affine=True)\n",
              "          (feed_forward): Wav2Vec2FeedForward(\n",
              "            (intermediate_dropout): Dropout(p=0.0, inplace=False)\n",
              "            (intermediate_dense): Linear(in_features=768, out_features=3072, bias=True)\n",
              "            (intermediate_act_fn): GELUActivation()\n",
              "            (output_dense): Linear(in_features=3072, out_features=768, bias=True)\n",
              "            (output_dropout): Dropout(p=0.1, inplace=False)\n",
              "          )\n",
              "          (final_layer_norm): LayerNorm((768,), eps=1e-05, elementwise_affine=True)\n",
              "        )\n",
              "      )\n",
              "    )\n",
              "  )\n",
              "  (projector): Linear(in_features=768, out_features=256, bias=True)\n",
              "  (classifier): Linear(in_features=256, out_features=7, bias=True)\n",
              ")"
            ]
          },
          "metadata": {},
          "execution_count": 29
        }
      ]
    },
    {
      "cell_type": "markdown",
      "source": [
        "#### Student Model"
      ],
      "metadata": {
        "id": "p6wGS3fo-bJU"
      }
    },
    {
      "cell_type": "code",
      "source": [
        "from transformers import Wav2Vec2Config, Wav2Vec2ForSequenceClassification\n",
        "\n",
        "# Define student model configuration\n",
        "student_config = Wav2Vec2Config(\n",
        "    hidden_size=256,  # Reduce hidden size\n",
        "    num_hidden_layers=6,  # Fewer transformer layers\n",
        "    num_attention_heads=4,  # Fewer attention heads\n",
        "    num_labels=7  # Match the number of output labels\n",
        ")\n",
        "\n",
        "# Initialize student model\n",
        "student_model = Wav2Vec2ForSequenceClassification(student_config)\n",
        "student_model.to('cuda')  # Move to GPU if available\n"
      ],
      "metadata": {
        "colab": {
          "base_uri": "https://localhost:8080/"
        },
        "id": "X5y9B4oA1Ika",
        "outputId": "d7abe8b9-d7d7-4ace-c3a3-ee1a95a4daa6"
      },
      "execution_count": 30,
      "outputs": [
        {
          "output_type": "execute_result",
          "data": {
            "text/plain": [
              "Wav2Vec2ForSequenceClassification(\n",
              "  (wav2vec2): Wav2Vec2Model(\n",
              "    (feature_extractor): Wav2Vec2FeatureEncoder(\n",
              "      (conv_layers): ModuleList(\n",
              "        (0): Wav2Vec2GroupNormConvLayer(\n",
              "          (conv): Conv1d(1, 512, kernel_size=(10,), stride=(5,), bias=False)\n",
              "          (activation): GELUActivation()\n",
              "          (layer_norm): GroupNorm(512, 512, eps=1e-05, affine=True)\n",
              "        )\n",
              "        (1-4): 4 x Wav2Vec2NoLayerNormConvLayer(\n",
              "          (conv): Conv1d(512, 512, kernel_size=(3,), stride=(2,), bias=False)\n",
              "          (activation): GELUActivation()\n",
              "        )\n",
              "        (5-6): 2 x Wav2Vec2NoLayerNormConvLayer(\n",
              "          (conv): Conv1d(512, 512, kernel_size=(2,), stride=(2,), bias=False)\n",
              "          (activation): GELUActivation()\n",
              "        )\n",
              "      )\n",
              "    )\n",
              "    (feature_projection): Wav2Vec2FeatureProjection(\n",
              "      (layer_norm): LayerNorm((512,), eps=1e-05, elementwise_affine=True)\n",
              "      (projection): Linear(in_features=512, out_features=256, bias=True)\n",
              "      (dropout): Dropout(p=0.0, inplace=False)\n",
              "    )\n",
              "    (encoder): Wav2Vec2Encoder(\n",
              "      (pos_conv_embed): Wav2Vec2PositionalConvEmbedding(\n",
              "        (conv): ParametrizedConv1d(\n",
              "          256, 256, kernel_size=(128,), stride=(1,), padding=(64,), groups=16\n",
              "          (parametrizations): ModuleDict(\n",
              "            (weight): ParametrizationList(\n",
              "              (0): _WeightNorm()\n",
              "            )\n",
              "          )\n",
              "        )\n",
              "        (padding): Wav2Vec2SamePadLayer()\n",
              "        (activation): GELUActivation()\n",
              "      )\n",
              "      (layer_norm): LayerNorm((256,), eps=1e-05, elementwise_affine=True)\n",
              "      (dropout): Dropout(p=0.1, inplace=False)\n",
              "      (layers): ModuleList(\n",
              "        (0-5): 6 x Wav2Vec2EncoderLayer(\n",
              "          (attention): Wav2Vec2SdpaAttention(\n",
              "            (k_proj): Linear(in_features=256, out_features=256, bias=True)\n",
              "            (v_proj): Linear(in_features=256, out_features=256, bias=True)\n",
              "            (q_proj): Linear(in_features=256, out_features=256, bias=True)\n",
              "            (out_proj): Linear(in_features=256, out_features=256, bias=True)\n",
              "          )\n",
              "          (dropout): Dropout(p=0.1, inplace=False)\n",
              "          (layer_norm): LayerNorm((256,), eps=1e-05, elementwise_affine=True)\n",
              "          (feed_forward): Wav2Vec2FeedForward(\n",
              "            (intermediate_dropout): Dropout(p=0.1, inplace=False)\n",
              "            (intermediate_dense): Linear(in_features=256, out_features=3072, bias=True)\n",
              "            (intermediate_act_fn): GELUActivation()\n",
              "            (output_dense): Linear(in_features=3072, out_features=256, bias=True)\n",
              "            (output_dropout): Dropout(p=0.1, inplace=False)\n",
              "          )\n",
              "          (final_layer_norm): LayerNorm((256,), eps=1e-05, elementwise_affine=True)\n",
              "        )\n",
              "      )\n",
              "    )\n",
              "  )\n",
              "  (projector): Linear(in_features=256, out_features=256, bias=True)\n",
              "  (classifier): Linear(in_features=256, out_features=7, bias=True)\n",
              ")"
            ]
          },
          "metadata": {},
          "execution_count": 30
        }
      ]
    },
    {
      "cell_type": "markdown",
      "source": [
        "#### Student model training"
      ],
      "metadata": {
        "id": "V4ffyrzf-e2-"
      }
    },
    {
      "cell_type": "code",
      "source": [
        "# define KD loss function\n",
        "import torch.nn.functional as F\n",
        "\n",
        "def kd_loss(student_logits, teacher_logits, labels, temperature=2.0, alpha=0.5):\n",
        "    # Soft targets\n",
        "    teacher_probs = F.softmax(teacher_logits / temperature, dim=-1)\n",
        "    student_probs = F.log_softmax(student_logits / temperature, dim=-1)\n",
        "    soft_loss = F.kl_div(student_probs, teacher_probs, reduction=\"batchmean\") * (temperature ** 2)\n",
        "\n",
        "    # Hard targets\n",
        "    hard_loss = F.cross_entropy(student_logits, labels)\n",
        "\n",
        "    # Combine losses\n",
        "    return alpha * soft_loss + (1 - alpha) * hard_loss"
      ],
      "metadata": {
        "id": "dk7dO-C03vV-"
      },
      "execution_count": 31,
      "outputs": []
    },
    {
      "cell_type": "code",
      "source": [
        "# Student Training Loop\n",
        "from torch.optim import AdamW\n",
        "\n",
        "# Optimizer for student model\n",
        "optimizer = AdamW(student_model.parameters(), lr=5e-5)\n",
        "\n",
        "# Training parameters\n",
        "num_epochs = 5\n",
        "temperature = 2.0\n",
        "alpha = 0.5\n",
        "\n",
        "teacher_model.to('cuda')\n",
        "student_model.to('cuda')\n",
        "\n",
        "for epoch in range(num_epochs):\n",
        "    student_model.train()\n",
        "    total_loss = 0\n",
        "\n",
        "    for i in range(len(train_dataset)):\n",
        "        # Get batch from the dataset\n",
        "        batch = train_dataset[i]\n",
        "        inputs = batch['input_values'].unsqueeze(0).to('cuda')  # Add batch dimension\n",
        "        labels = batch['labels'].unsqueeze(0).to('cuda')\n",
        "\n",
        "        # Forward pass through teacher model\n",
        "        with torch.no_grad():\n",
        "            teacher_logits = teacher_model(inputs).logits\n",
        "\n",
        "        # Forward pass through student model\n",
        "        student_logits = student_model(inputs).logits\n",
        "\n",
        "        # Compute distillation loss\n",
        "        loss = kd_loss(student_logits, teacher_logits, labels, temperature, alpha)\n",
        "\n",
        "        # Backpropagation\n",
        "        optimizer.zero_grad()\n",
        "        loss.backward()\n",
        "        optimizer.step()\n",
        "\n",
        "        total_loss += loss.item()\n",
        "\n",
        "    print(f\"Epoch {epoch + 1}/{num_epochs}, Loss: {total_loss / len(train_dataset):.4f}\")\n"
      ],
      "metadata": {
        "colab": {
          "base_uri": "https://localhost:8080/"
        },
        "id": "MgH4KcJq5P3A",
        "outputId": "a9ce3b8f-11b3-4f67-80e8-d978e455bf03"
      },
      "execution_count": null,
      "outputs": [
        {
          "output_type": "stream",
          "name": "stdout",
          "text": [
            "Epoch 1/5, Loss: 2.0569\n",
            "Epoch 2/5, Loss: 1.1128\n",
            "Epoch 3/5, Loss: 0.8640\n"
          ]
        }
      ]
    },
    {
      "cell_type": "code",
      "source": [
        "# Evaluate Student Model\n",
        "from sklearn.metrics import accuracy_score\n",
        "\n",
        "student_model.eval()\n",
        "predictions, true_labels = [], []\n",
        "\n",
        "with torch.no_grad():\n",
        "    for i in range(len(test_dataset)):\n",
        "        batch = test_dataset[i]\n",
        "        inputs = batch['input_values'].unsqueeze(0).to('cuda')\n",
        "        labels = batch['labels'].unsqueeze(0).to('cuda')\n",
        "\n",
        "        logits = student_model(inputs).logits\n",
        "        preds = torch.argmax(logits, dim=-1)\n",
        "\n",
        "        predictions.extend(preds.cpu().numpy())\n",
        "        true_labels.extend(labels.cpu().numpy())\n",
        "\n",
        "accuracy = accuracy_score(true_labels, predictions)\n",
        "print(f\"Test Accuracy: {accuracy:.4f}\")\n"
      ],
      "metadata": {
        "colab": {
          "base_uri": "https://localhost:8080/"
        },
        "id": "EP-Gbg4Y5q26",
        "outputId": "053a702f-001c-40fd-a40f-34d4d4308d50"
      },
      "execution_count": null,
      "outputs": [
        {
          "output_type": "stream",
          "name": "stdout",
          "text": [
            "Test Accuracy: 0.9964\n"
          ]
        }
      ]
    },
    {
      "cell_type": "code",
      "source": [
        "# Save student model\n",
        "torch.save(student_model.state_dict(), 'student_model.pt')\n"
      ],
      "metadata": {
        "id": "MKd19aUf5uR9"
      },
      "execution_count": null,
      "outputs": []
    },
    {
      "cell_type": "markdown",
      "source": [
        "### Student-Teacher Comparison"
      ],
      "metadata": {
        "id": "QRMx_jek-i3e"
      }
    },
    {
      "cell_type": "code",
      "source": [
        "import os\n",
        "import time\n",
        "\n",
        "# Compare model size\n",
        "teacher_model_size = os.path.getsize('/content/drive/MyDrive/Emotion Recognition Model/teacher_model.pt') / (1024 ** 2)  # Size in MB\n",
        "student_model_size = os.path.getsize('/content/drive/MyDrive/Emotion Recognition Model/student_model.pt') / (1024 ** 2)  # Size in MB\n",
        "print(f\"Teacher Model Size: {teacher_model_size:.2f} MB\")\n",
        "print(f\"Student Model Size: {student_model_size:.2f} MB\")\n",
        "\n",
        "# Compare inference time\n",
        "def measure_inference_time(model, inputs):\n",
        "    start_time = time.time()\n",
        "    with torch.no_grad():\n",
        "        _ = model(inputs)\n",
        "    end_time = time.time()\n",
        "    return end_time - start_time\n",
        "\n",
        "batch = test_dataset[0]['input_values'].unsqueeze(0).to('cuda')  # Single input\n",
        "teacher_time = measure_inference_time(teacher_model, batch)\n",
        "student_time = measure_inference_time(student_model, batch)\n",
        "\n",
        "print(f\"Teacher Inference Time: {teacher_time:.4f} seconds\")\n",
        "print(f\"Student Inference Time: {student_time:.4f} seconds\")\n",
        "\n",
        "# Compare accuracy\n",
        "def evaluate_model(model, dataset):\n",
        "    model.eval()\n",
        "    predictions, true_labels = [], []\n",
        "\n",
        "    with torch.no_grad():\n",
        "        for i in range(len(dataset)):\n",
        "            batch = dataset[i]\n",
        "            inputs = batch['input_values'].unsqueeze(0).to('cuda')\n",
        "            labels = batch['labels'].unsqueeze(0).to('cuda')\n",
        "\n",
        "            logits = model(inputs).logits\n",
        "            preds = torch.argmax(logits, dim=-1)\n",
        "\n",
        "            predictions.extend(preds.cpu().numpy())\n",
        "            true_labels.extend(labels.cpu().numpy())\n",
        "\n",
        "    accuracy = accuracy_score(true_labels, predictions)\n",
        "    return accuracy\n",
        "\n",
        "# teacher_model.load_state_dict(torch.load('teacher_model.pt'))\n",
        "teacher_model.eval()\n",
        "teacher_acc = evaluate_model(teacher_model, test_dataset)\n",
        "student_acc = evaluate_model(student_model, test_dataset)\n",
        "\n",
        "print(f\"Teacher Accuracy: {teacher_acc:.4f}\")\n",
        "print(f\"Student Accuracy: {student_acc:.4f}\")\n",
        "\n"
      ],
      "metadata": {
        "colab": {
          "base_uri": "https://localhost:8080/"
        },
        "id": "Gs_TDlIF-mZs",
        "outputId": "c53a661d-3d2e-43b3-ae3c-b1bd939633da"
      },
      "execution_count": null,
      "outputs": [
        {
          "output_type": "stream",
          "name": "stdout",
          "text": [
            "Teacher Model Size: 360.84 MB\n",
            "Student Model Size: 60.96 MB\n",
            "Teacher Inference Time: 0.0199 seconds\n",
            "Student Inference Time: 0.0086 seconds\n",
            "Teacher Accuracy: 1.0000\n",
            "Student Accuracy: 0.9964\n"
          ]
        }
      ]
    },
    {
      "cell_type": "markdown",
      "source": [
        "### Feature Extraction and Similarity Metrics on Student model"
      ],
      "metadata": {
        "id": "gcZSjWMBERWn"
      }
    },
    {
      "cell_type": "code",
      "source": [
        "# slightly altered feature extraction code for student model\n",
        "def extract_features(model, processor, dataset, output_dir, split_name):\n",
        "    model.to(device)\n",
        "\n",
        "    # Dynamically infer hidden size and number of layers\n",
        "    hidden_size = model.config.hidden_size\n",
        "    num_layers = model.config.num_hidden_layers + 1  # Add 1 for the input layer's hidden state\n",
        "\n",
        "    # Initialize hidden states tensor\n",
        "    hidden_states = torch.zeros((len(dataset), num_layers, hidden_size)).to(device)\n",
        "\n",
        "    # Iterate over the dataset\n",
        "    for i, example in enumerate(tqdm(dataset, desc=f\"Extracting {split_name} features\")):\n",
        "        inputs = example['input_values'].unsqueeze(0).to(device)  # Use dataset class structure\n",
        "\n",
        "        with torch.no_grad():\n",
        "            outputs = model(inputs, output_hidden_states=True, return_dict=True)\n",
        "\n",
        "        # Average the hidden states over the time axis for each layer\n",
        "        for j, hidden_state in enumerate(outputs.hidden_states):\n",
        "            hs_mean = torch.mean(hidden_state, dim=1)\n",
        "            hidden_states[i, j] = hs_mean\n",
        "\n",
        "        # Save intermediate results every 100 steps\n",
        "        if i > 0 and i % 100 == 0:\n",
        "            intermediate_path = os.path.join(output_dir, f\"{split_name}_hidden_states.npy\")\n",
        "            np.save(intermediate_path, hidden_states.cpu().numpy())\n",
        "            # print(f\"Saved intermediate features for {split_name}: {intermediate_path}\")\n",
        "\n",
        "    # Save the final features\n",
        "    final_path = os.path.join(output_dir, f\"{split_name}_hidden_states.npy\")\n",
        "    np.save(final_path, hidden_states.cpu().numpy())\n",
        "    print(f\"Saved final features for {split_name}: {final_path}\")\n",
        "\n",
        "# Extract features for the student model\n",
        "print(\"Extracting student model hidden features\")\n",
        "output_dir = \"./student_hidden_features\"\n",
        "os.makedirs(output_dir, exist_ok=True)\n",
        "\n",
        "# Train and test feature extraction\n",
        "extract_features(student_model, processor, train_dataset, output_dir, \"train\")\n",
        "extract_features(student_model, processor, test_dataset, output_dir, \"test\")\n"
      ],
      "metadata": {
        "colab": {
          "base_uri": "https://localhost:8080/"
        },
        "id": "JaY2QoENEUpo",
        "outputId": "aebe887c-fb2c-4f76-9503-5c2f45316715"
      },
      "execution_count": null,
      "outputs": [
        {
          "output_type": "stream",
          "name": "stdout",
          "text": [
            "Extracting student model hidden features\n"
          ]
        },
        {
          "output_type": "stream",
          "name": "stderr",
          "text": [
            "Extracting train features: 100%|██████████| 2240/2240 [00:29<00:00, 74.83it/s]\n"
          ]
        },
        {
          "output_type": "stream",
          "name": "stdout",
          "text": [
            "Saved final features for train: ./student_hidden_features/train_hidden_states.npy\n"
          ]
        },
        {
          "output_type": "stream",
          "name": "stderr",
          "text": [
            "Extracting test features: 100%|██████████| 560/560 [00:05<00:00, 103.11it/s]"
          ]
        },
        {
          "output_type": "stream",
          "name": "stdout",
          "text": [
            "Saved final features for test: ./student_hidden_features/test_hidden_states.npy\n"
          ]
        },
        {
          "output_type": "stream",
          "name": "stderr",
          "text": [
            "\n"
          ]
        }
      ]
    },
    {
      "cell_type": "markdown",
      "source": [
        "#### Visualize student hidden features"
      ],
      "metadata": {
        "id": "d8__jDuYGWhu"
      }
    },
    {
      "cell_type": "code",
      "source": [
        "hidden_states = np.load(\"student_hidden_features/train_hidden_states.npy\")\n",
        "labels = np.array(train_df['labels'])\n",
        "unique_labels = np.unique(labels)\n",
        "\n",
        "# visualize the hidden states using tsne of a few layers\n",
        "fig, axes = plt.subplots(1, 3, figsize=(15, 5))\n",
        "\n",
        "for idx, layer in enumerate([0, 3, 6]):\n",
        "    X_embedded = TSNE().fit_transform(hidden_states[:, layer, :])\n",
        "    ax = axes[idx]\n",
        "    for i in range(len(unique_labels)):\n",
        "        ax.scatter(X_embedded[labels == unique_labels[i], 0], X_embedded[labels == unique_labels[i], 1], marker='o')\n",
        "    ax.set_title(f\"Layer {layer}\")\n",
        "\n",
        "plt.tight_layout()\n",
        "plt.show()"
      ],
      "metadata": {
        "colab": {
          "base_uri": "https://localhost:8080/",
          "height": 403
        },
        "id": "PA4q-JkwF0bl",
        "outputId": "821fea08-9779-44f1-ea6d-2886be5cb47c"
      },
      "execution_count": null,
      "outputs": [
        {
          "output_type": "display_data",
          "data": {
            "text/plain": [
              "<Figure size 1500x500 with 3 Axes>"
            ],
            "image/png": "[encoded data removed]"
          },
          "metadata": {}
        }
      ]
    },
    {
      "cell_type": "markdown",
      "source": [
        "#### Similarity Metrics"
      ],
      "metadata": {
        "id": "rFqIcgKjHcZT"
      }
    },
    {
      "cell_type": "code",
      "source": [
        "import seaborn as sns\n",
        "import matplotlib.pyplot as plt\n",
        "\n",
        "hidden_states = np.load(\"student_hidden_features/train_hidden_states.npy\")\n",
        "\n",
        "num_layers = hidden_states.shape[1]\n",
        "num_samples = hidden_states.shape[0]\n",
        "hidden_states = torch.tensor(hidden_states)\n",
        "\n",
        "cka_matrix = np.zeros((num_layers, num_layers))\n",
        "for i in range(num_layers):\n",
        "    for j in range(num_layers):\n",
        "        cka_matrix[i, j] = cka(hidden_states[:, i, :], hidden_states[:, j, :])\n",
        "\n",
        "knn_matrix = np.zeros((num_layers, num_layers))\n",
        "for i in range(num_layers):\n",
        "    for j in range(num_layers):\n",
        "        knn_matrix[i, j] = mutual_knn(hidden_states[:, i, :], hidden_states[:, j, :], topk=5)\n",
        "\n",
        "\n",
        "# Compute cosine similarity\n",
        "cosine_matrix = np.zeros((num_layers, num_layers))\n",
        "for i in range(num_layers):\n",
        "    for j in range(num_layers):\n",
        "        cosine_matrix[i, j] = cosine_similarity(hidden_states[:, i, :], hidden_states[:, j, :]).trace()/num_samples\n",
        "\n",
        "\n",
        "fig, axes = plt.subplots(1, 3, figsize=(20, 6))\n",
        "\n",
        "sns.heatmap(cka_matrix, ax=axes[0], cmap=\"viridis\")\n",
        "axes[0].set_title(\"CKA Similarity Matrix Across Layers\")\n",
        "\n",
        "sns.heatmap(knn_matrix, ax=axes[1], cmap=\"viridis\")\n",
        "axes[1].set_title(\"Mutual kNN Similarity Matrix Across Layers\")\n",
        "axes[1].set_xlabel(\"Layers\")\n",
        "axes[1].set_ylabel(\"Layers\")\n",
        "\n",
        "sns.heatmap(cosine_matrix, ax=axes[2], cmap=\"viridis\")\n",
        "axes[2].set_title(\"Cosine Similarity Matrix Across Layers\")\n",
        "axes[2].set_xlabel(\"Layers\")\n",
        "axes[2].set_ylabel(\"Layers\")\n",
        "\n",
        "plt.tight_layout()\n",
        "plt.show()"
      ],
      "metadata": {
        "colab": {
          "base_uri": "https://localhost:8080/",
          "height": 371
        },
        "id": "3eOmUEZAHexb",
        "outputId": "70baf0ea-25a0-4dca-bd65-26b1a8b90f5e"
      },
      "execution_count": null,
      "outputs": [
        {
          "output_type": "display_data",
          "data": {
            "text/plain": [
              "<Figure size 2000x600 with 6 Axes>"
            ],
            "image/png": "[encoded data removed]"
          },
          "metadata": {}
        }
      ]
    }
  ]
}